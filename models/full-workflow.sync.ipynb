{
 "cells": [
  {
   "cell_type": "markdown",
   "id": "7bc1aa8f",
   "metadata": {},
   "source": [
    "# Imports"
   ]
  },
  {
   "cell_type": "code",
   "execution_count": 68,
   "id": "5a5226dc",
   "metadata": {},
   "outputs": [],
   "source": [
    "import logging\n",
    "import time\n",
    "\n",
    "import numpy as np\n",
    "import pandas as pd\n",
    "import tensorflow as tf\n",
    "import torch\n",
    "import torch.nn as nn\n",
    "import torch.nn.functional as F\n",
    "import torch.optim as optim\n",
    "from brainflow import *\n",
    "from keras import layers\n",
    "from matplotlib import pyplot as plt\n",
    "from scipy import signal\n",
    "from sklearn.model_selection import train_test_split\n",
    "from torch.utils.data import DataLoader, TensorDataset"
   ]
  },
  {
   "cell_type": "markdown",
   "id": "337b1d70",
   "metadata": {},
   "source": [
    "Training Data"
   ]
  },
  {
   "cell_type": "code",
   "execution_count": 69,
   "id": "84ee0492",
   "metadata": {},
   "outputs": [],
   "source": [
    "raw_training = DataFilter.read_file(\"../data/training_EEG.csv\")\n",
    "raw_training2 = DataFilter.read_file(\"../data/training-long_EEG.csv\")\n",
    "# raw_training3 = DataFilter.read_file(\"../data/combo_file.csv\")"
   ]
  },
  {
   "cell_type": "code",
   "execution_count": 70,
   "id": "7505142d",
   "metadata": {},
   "outputs": [],
   "source": [
    "# raw_training = DataFilter.read_file('drive/MyDrive/eeg/training_EEG.csv')\n",
    "# raw_training = pd.DataFrame(np.transpose(raw_training))\n",
    "# raw_training = raw_training3\n",
    "\n",
    "training_raw_channels = []\n",
    "for channel in range(1, 9):\n",
    "    training_raw_channels.append(raw_training[channel][:])\n",
    "training_raw_channels = np.array(training_raw_channels)\n",
    "\n",
    "training_raw_times = raw_training[22][:]\n",
    "training_raw_markers = raw_training[23][:]"
   ]
  },
  {
   "cell_type": "code",
   "execution_count": 71,
   "id": "92f4c142",
   "metadata": {},
   "outputs": [],
   "source": [
    "raw_training = DataFilter.read_file(\"../data/training_EEG.csv\")\n",
    "raw_training = pd.DataFrame(np.transpose(raw_training))\n",
    "\n",
    "training_raw_channels = []\n",
    "for channel in range(1, 9):\n",
    "    training_raw_channels.append(raw_training[channel][:])\n",
    "training_raw_channels = np.array(training_raw_channels)\n",
    "\n",
    "training_raw_times = raw_training[22][:]\n",
    "training_raw_markers = raw_training[23][:]"
   ]
  },
  {
   "cell_type": "markdown",
   "id": "bd64080b",
   "metadata": {},
   "source": [
    "Testing Data"
   ]
  },
  {
   "cell_type": "code",
   "execution_count": 5,
   "id": "ed00d731",
   "metadata": {},
   "outputs": [],
   "source": [
    "raw_testing = DataFilter.read_file(\"../data/testing_EEG.csv\")\n",
    "raw_testing = pd.DataFrame(np.transpose(raw_testing))\n",
    "\n",
    "testing_raw_channels = []\n",
    "for channel in range(1, 9):\n",
    "    testing_raw_channels.append(raw_testing[channel][:])\n",
    "testing_raw_channels = np.array(testing_raw_channels)\n",
    "\n",
    "testing_raw_times = raw_testing[22][:]\n",
    "testing_raw_markers = raw_testing[23][:]"
   ]
  },
  {
   "cell_type": "markdown",
   "id": "5f57cd7f",
   "metadata": {},
   "source": [
    "# Trim and Scale Data\n",
    "Define scaling factor"
   ]
  },
  {
   "cell_type": "code",
   "execution_count": 6,
   "id": "5d6f7ae0",
   "metadata": {},
   "outputs": [],
   "source": [
    "SCALE_FACTOR = (4500000) / 24 / (2**23 - 1)"
   ]
  },
  {
   "cell_type": "markdown",
   "id": "b208dd94",
   "metadata": {},
   "source": [
    "Remove the first and last 5 seconds of data"
   ]
  },
  {
   "cell_type": "code",
   "execution_count": 7,
   "id": "979b1f58",
   "metadata": {},
   "outputs": [],
   "source": [
    "# Using 250 samples per second\n",
    "fs = 250\n",
    "\n",
    "training_times = np.array(training_raw_times[5 * fs : -5 * fs])\n",
    "training_channels = np.array(\n",
    "    [SCALE_FACTOR * training_raw_channels[n][5 * fs : -5 * fs] for n in range(8)]\n",
    ")\n",
    "training_spaces = np.array(training_raw_markers[5 * fs : -5 * fs])\n",
    "\n",
    "testing_times = np.array(testing_raw_times[5 * fs : -5 * fs])\n",
    "testing_channels = np.array(\n",
    "    [SCALE_FACTOR * testing_raw_channels[n][5 * fs : -5 * fs] for n in range(8)]\n",
    ")\n",
    "testing_spaces = np.array(testing_raw_markers[5 * fs : -5 * fs])"
   ]
  },
  {
   "cell_type": "markdown",
   "id": "f9674406",
   "metadata": {},
   "source": [
    "# Define Filters\n",
    "Notch Filters removes background power noise at 60 hz"
   ]
  },
  {
   "cell_type": "code",
   "execution_count": 8,
   "id": "9690476b",
   "metadata": {},
   "outputs": [],
   "source": [
    "def notch_filter(signal_data, notch_freq=60, notch_size=3, fs=250):\n",
    "    notch_freq_Hz = np.array([float(notch_freq)])\n",
    "    for freq_Hz in np.nditer(notch_freq_Hz):\n",
    "        bp_stop_Hz = freq_Hz + notch_size * np.array([-1, 1])\n",
    "        b, a = signal.butter(3, bp_stop_Hz / (fs / 2.0), \"bandstop\")\n",
    "        fin = signal_data = signal.lfilter(b, a, signal_data)\n",
    "    return fin"
   ]
  },
  {
   "cell_type": "markdown",
   "id": "6e6a5a6a",
   "metadata": {},
   "source": [
    "Bandpass filter smooths reduces gain depending on specified frequency band"
   ]
  },
  {
   "cell_type": "code",
   "execution_count": 9,
   "id": "f03c2992",
   "metadata": {},
   "outputs": [],
   "source": [
    "def bandpass(start, stop, signal_data, fs=250):\n",
    "    bp_Hz = np.array([start, stop])\n",
    "    b, a = signal.butter(5, bp_Hz / (fs / 2.0), btype=\"bandpass\")\n",
    "    return signal.lfilter(b, a, signal_data, axis=0)"
   ]
  },
  {
   "cell_type": "markdown",
   "id": "d7574f53",
   "metadata": {},
   "source": [
    "### Apply Filters\n"
   ]
  },
  {
   "cell_type": "code",
   "execution_count": 10,
   "id": "5126cf9a",
   "metadata": {},
   "outputs": [],
   "source": [
    "filtered_training = []\n",
    "filtered_testing = []\n",
    "\n",
    "for i in range(8):\n",
    "    # Filter training data\n",
    "    notched = notch_filter(training_channels[i].T, notch_size=8)\n",
    "    filtered_training.append(notched)\n",
    "\n",
    "    # Filter testing data\n",
    "    notched = notch_filter(testing_channels[i].T, notch_size=8)\n",
    "    filtered_testing.append(notched)"
   ]
  },
  {
   "cell_type": "markdown",
   "id": "9b8d793c",
   "metadata": {},
   "source": [
    "## Fourier Transforms\n",
    "First we take the fourier transform of the entire dataset, averaging over all channels"
   ]
  },
  {
   "cell_type": "code",
   "execution_count": 11,
   "id": "fb573f3a",
   "metadata": {},
   "outputs": [],
   "source": [
    "training_fourier = []\n",
    "testing_fourier = []\n",
    "\n",
    "# Get frequency lists\n",
    "training_freqs = np.fft.fftfreq(training_times.shape[-1], d=1 / fs)\n",
    "testing_freqs = np.fft.fftfreq(testing_times.shape[-1], d=1 / fs)\n",
    "\n",
    "# Get fourier transforms for each channel\n",
    "for i in range(8):\n",
    "    training_fourier.append(np.absolute(np.fft.fft(filtered_training[i])))\n",
    "    testing_fourier.append(np.absolute(np.fft.fft(filtered_testing[i])))\n",
    "\n",
    "# Stack fourier transforms\n",
    "training_stacked = np.stack(training_fourier, axis=1)\n",
    "testing_stacked = np.stack(testing_fourier, axis=1)\n",
    "\n",
    "# Average fourier transforms\n",
    "training_avg_fourier = np.mean(training_stacked, axis=1)\n",
    "testing_avg_fourier = np.mean(testing_stacked, axis=1)"
   ]
  },
  {
   "cell_type": "markdown",
   "id": "aa220e81",
   "metadata": {},
   "source": [
    "Plot FFT of Filtered Training Data"
   ]
  },
  {
   "cell_type": "code",
   "execution_count": 13,
   "id": "f21aa4f5",
   "metadata": {},
   "outputs": [
    {
     "data": {
      "image/png": "[encoded data removed]",
      "text/plain": [
       "<Figure size 640x480 with 1 Axes>"
      ]
     },
     "metadata": {},
     "output_type": "display_data"
    }
   ],
   "source": [
    "plt.plot(training_freqs, training_avg_fourier)\n",
    "plt.xlim(0, 125)\n",
    "plt.ylim(0, 3000)\n",
    "plt.title(\"FFT of Trainng Data\")\n",
    "plt.show()"
   ]
  },
  {
   "cell_type": "markdown",
   "id": "330959a8",
   "metadata": {},
   "source": [
    "Plot FFT of Filtered Testing Data"
   ]
  },
  {
   "cell_type": "code",
   "execution_count": 14,
   "id": "01bbed97",
   "metadata": {
    "colab": {
     "base_uri": "https://localhost:8080/",
     "height": 281
    }
   },
   "outputs": [
    {
     "data": {
      "image/png": "[encoded data removed]",
      "text/plain": [
       "<Figure size 640x480 with 1 Axes>"
      ]
     },
     "metadata": {},
     "output_type": "display_data"
    }
   ],
   "source": [
    "plt.plot(testing_freqs, testing_avg_fourier)\n",
    "plt.xlim(0, 125)\n",
    "plt.ylim(0, 3000)\n",
    "plt.title(\"FFT of Testing Data\")\n",
    "plt.show()"
   ]
  },
  {
   "cell_type": "markdown",
   "id": "567246bc",
   "metadata": {},
   "source": [
    "Define paramaters for *(x_train, y_train)* generation\n"
   ]
  },
  {
   "cell_type": "code",
   "execution_count": 15,
   "id": "2694f983",
   "metadata": {},
   "outputs": [],
   "source": [
    "# Time window (in seconds) to consider preceding each space press\n",
    "window_size = 0.15\n",
    "\n",
    "# Uncertainty (in seconds) around each space press marker\n",
    "space_buffer = 0.02\n",
    "\n",
    "# Latency assumption (in seconds)\n",
    "latency = 0.02\n",
    "\n",
    "# Notch filter notch width\n",
    "n_width = 6\n",
    "\n",
    "# Range of frequencies to consider\n",
    "freq_lowerbound = 10\n",
    "freq_upperbound = 100"
   ]
  },
  {
   "cell_type": "markdown",
   "id": "95670636",
   "metadata": {},
   "source": [
    "Define function to generate *(x_   , y_    )* from the given paramaters"
   ]
  },
  {
   "cell_type": "code",
   "execution_count": 16,
   "id": "9f2e713b",
   "metadata": {},
   "outputs": [],
   "source": [
    "def get_processed_data(\n",
    "    times,\n",
    "    channels,\n",
    "    markers,\n",
    "    window_size=window_size,\n",
    "    space_buffer=space_buffer,\n",
    "    latency=latency,\n",
    "    n_width=n_width,\n",
    "    freq_lowerbound=freq_lowerbound,\n",
    "    freq_upperbound=freq_upperbound,\n",
    "):\n",
    "    # Define return arrays\n",
    "    x_data = []\n",
    "    y_data = []\n",
    "\n",
    "    # The number of indices to consider preceding each space press\n",
    "    delta_i = int(fs * window_size)\n",
    "\n",
    "    space_i = int(fs * space_buffer)\n",
    "\n",
    "    lat_i = int(fs * latency)\n",
    "\n",
    "    # Number of trainingtime samples to consider\n",
    "    num_samples = len(times) - delta_i - 1\n",
    "\n",
    "    # Get frequency list\n",
    "    freqs = np.fft.fftfreq(times[0:delta_i].shape[-1], d=1 / fs)\n",
    "\n",
    "    # Record indices of chosen frequencies\n",
    "    relevant_freq = []\n",
    "    relevant_freq_indices = []\n",
    "\n",
    "    for i, f in enumerate(freqs):\n",
    "        if freq_lowerbound <= f <= freq_upperbound:\n",
    "            relevant_freq.append(f)\n",
    "            relevant_freq_indices.append(i)\n",
    "\n",
    "    for i in range(num_samples):\n",
    "        # Define window data\n",
    "        window_data = []\n",
    "\n",
    "        # Define window end index\n",
    "        window_end = i + delta_i\n",
    "\n",
    "        # Record space press, 1 if\n",
    "        y_data.append(max(markers[window_end - 2 - lat_i : window_end + 1 - lat_i]))\n",
    "\n",
    "        # Get fourier transforms for each channel\n",
    "        for channel in channels:\n",
    "            fourier_series = np.absolute(np.fft.fft(channel[i : i + delta_i]))\n",
    "            window_data.append(\n",
    "                fourier_series[relevant_freq_indices[0] : relevant_freq_indices[-1] + 1]\n",
    "            )\n",
    "\n",
    "        # Stack fourier transforms\n",
    "        window_stack = np.stack(window_data, axis=1)\n",
    "\n",
    "        # Average fourier transforms\n",
    "        window_avg = np.mean(window_stack, axis=1)\n",
    "\n",
    "        x_data.append(np.array(window_avg))\n",
    "\n",
    "        del window_data\n",
    "    return x_data, y_data, relevant_freq"
   ]
  },
  {
   "cell_type": "markdown",
   "id": "371bbc04",
   "metadata": {},
   "source": [
    "Get training and validation data"
   ]
  },
  {
   "cell_type": "code",
   "execution_count": 17,
   "id": "6db95f4b",
   "metadata": {},
   "outputs": [],
   "source": [
    "x_data, y_data, freq_list = get_processed_data(\n",
    "    training_times, training_channels, training_spaces\n",
    ")\n",
    "x_valid, y_valid, freq_list = get_processed_data(\n",
    "    testing_times, testing_channels, testing_spaces\n",
    ")"
   ]
  },
  {
   "cell_type": "code",
   "execution_count": 19,
   "id": "536eeccc",
   "metadata": {
    "colab": {
     "base_uri": "https://localhost:8080/"
    }
   },
   "outputs": [
    {
     "name": "stdout",
     "output_type": "stream",
     "text": [
      "x_train shape: (247634, 13), y_train shape: (247634,)\n",
      "x_valid shape: (19974, 13), y_valid shape: (19974,)\n",
      "Minimum training accuracy = 0.9871\n",
      "Minimum validation accuracy = 0.9859\n"
     ]
    }
   ],
   "source": [
    "print(f\"x_train shape: {np.shape(x_data)}, y_train shape: {np.shape(y_data)}\")\n",
    "print(f\"x_valid shape: {np.shape(x_valid)}, y_valid shape: {np.shape(y_valid)}\")\n",
    "print(\n",
    "    f\"Minimum training accuracy = {round(1 - np.sum(y_data) / np.shape(x_data)[0], 4)}\"\n",
    ")\n",
    "print(\n",
    "    f\"Minimum validation accuracy = {round(1 - np.sum(y_valid) / np.shape(x_valid)[0], 4)}\"\n",
    ")"
   ]
  },
  {
   "cell_type": "markdown",
   "id": "cca9c25b",
   "metadata": {},
   "source": [
    "# Partition data for training"
   ]
  },
  {
   "cell_type": "code",
   "execution_count": 20,
   "id": "b0a653d3",
   "metadata": {},
   "outputs": [],
   "source": [
    "# Reshape x_data to a 3D array\n",
    "x_data = np.array(x_data)\n",
    "y_data = np.array(y_data)\n",
    "\n",
    "# Split the data into training and testing sets\n",
    "x_train, x_test, y_train, y_test = train_test_split(\n",
    "    x_data, y_data, test_size=0.2, random_state=42, shuffle=True\n",
    ")"
   ]
  },
  {
   "cell_type": "markdown",
   "id": "084d6e9b",
   "metadata": {},
   "source": [
    "# Removing 0 data"
   ]
  },
  {
   "cell_type": "code",
   "execution_count": 21,
   "id": "3d175d9d",
   "metadata": {},
   "outputs": [],
   "source": [
    "removal_ratio = 99 / 100"
   ]
  },
  {
   "cell_type": "code",
   "execution_count": null,
   "id": "6700654d",
   "metadata": {
    "colab": {
     "base_uri": "https://localhost:8080/"
    }
   },
   "outputs": [],
   "source": [
    "# Identify data points belonging to class 0\n",
    "print(len(x_train))\n",
    "class_1_indices = np.where(y_train == 0)[0]\n",
    "\n",
    "# Randomly select half of the data points from class 1\n",
    "num_points_to_remove = int(len(class_1_indices) * removal_ratio)\n",
    "points_to_remove = np.random.choice(\n",
    "    class_1_indices, size=num_points_to_remove, replace=False\n",
    ")\n",
    "\n",
    "# Remove the selected data points from the original dataset\n",
    "x_train = np.delete(x_train, points_to_remove, axis=0)\n",
    "y_train = np.delete(y_train, points_to_remove, axis=0)\n",
    "print(len(x_train))"
   ]
  },
  {
   "cell_type": "code",
   "execution_count": null,
   "id": "e589ddb9",
   "metadata": {
    "colab": {
     "base_uri": "https://localhost:8080/"
    }
   },
   "outputs": [],
   "source": [
    "# Identify data points belonging to class 0\n",
    "print(len(x_test))\n",
    "class_1_indices = np.where(y_test == 0)[0]\n",
    "\n",
    "# Randomly select half of the data points from class 1\n",
    "num_points_to_remove = int(len(class_1_indices) * removal_ratio)\n",
    "points_to_remove = np.random.choice(\n",
    "    class_1_indices, size=num_points_to_remove, replace=False\n",
    ")\n",
    "\n",
    "# Remove the selected data points from the original dataset\n",
    "x_test = np.delete(x_test, points_to_remove, axis=0)\n",
    "y_test = np.delete(y_test, points_to_remove, axis=0)\n",
    "print(len(x_test))"
   ]
  },
  {
   "cell_type": "markdown",
   "id": "a2f85c14",
   "metadata": {},
   "source": [
    "# Reshape data"
   ]
  },
  {
   "cell_type": "code",
   "execution_count": null,
   "id": "3b250e51",
   "metadata": {},
   "outputs": [],
   "source": [
    "x_train = x_train.reshape(x_train.shape[0], x_train.shape[1], 1)\n",
    "x_test = x_test.reshape(x_test.shape[0], x_test.shape[1], 1)\n",
    "\n",
    "y_train = y_train.reshape(y_train.shape[0], 1)\n",
    "y_test = y_test.reshape(y_test.shape[0], 1)"
   ]
  },
  {
   "cell_type": "code",
   "execution_count": 37,
   "id": "e5f45a75",
   "metadata": {
    "colab": {
     "base_uri": "https://localhost:8080/"
    }
   },
   "outputs": [
    {
     "name": "stdout",
     "output_type": "stream",
     "text": [
      "x_train shape: (198107, 13, 1), y_train shape: (198107, 1)\n",
      "x_test shape: (49527, 13, 1), y_test shape: (49527, 1)\n",
      "Minimum training accuracy = 0.9873\n",
      "Minimum validation accuracy = 0.9863\n"
     ]
    }
   ],
   "source": [
    "print(f\"x_train shape: {np.shape(x_train)}, y_train shape: {np.shape(y_train)}\")\n",
    "print(f\"x_test shape: {np.shape(x_test)}, y_test shape: {np.shape(y_test)}\")\n",
    "print(\n",
    "    f\"Minimum training accuracy = {round(1 - np.sum(y_train) / np.shape(x_train)[0], 4)}\"\n",
    ")\n",
    "print(\n",
    "    f\"Minimum validation accuracy = {round(1 - np.sum(y_test) / np.shape(x_test)[0], 4)}\"\n",
    ")"
   ]
  },
  {
   "cell_type": "code",
   "execution_count": 38,
   "id": "f392cc13",
   "metadata": {},
   "outputs": [
    {
     "data": {
      "text/plain": [
       "(198107, 13, 1)"
      ]
     },
     "execution_count": 38,
     "metadata": {},
     "output_type": "execute_result"
    }
   ],
   "source": [
    "x_train.shape"
   ]
  },
  {
   "cell_type": "markdown",
   "id": "da44cd64",
   "metadata": {},
   "source": [
    "# Create Model\n",
    "Define custom loss function to penalize failuire to detect space presses more heavily\n"
   ]
  },
  {
   "cell_type": "code",
   "execution_count": 22,
   "id": "05041c17",
   "metadata": {},
   "outputs": [],
   "source": [
    "def custom_loss(y_true, y_pred):\n",
    "    loss = tf.reduce_mean(tf.square(y_true - y_pred))\n",
    "    incorrect_pred = tf.abs(y_true - tf.round(y_pred))\n",
    "    loss += tf.reduce_mean(\n",
    "        tf.square(incorrect_pred * (1 + 100 * tf.abs(tf.cast(y_true, tf.float32))))\n",
    "    )\n",
    "    return loss"
   ]
  },
  {
   "cell_type": "markdown",
   "id": "d054da1d",
   "metadata": {},
   "source": [
    "Define input shape"
   ]
  },
  {
   "cell_type": "code",
   "execution_count": 23,
   "id": "f93417ac",
   "metadata": {},
   "outputs": [],
   "source": [
    "input_dim = (13,)"
   ]
  },
  {
   "cell_type": "markdown",
   "id": "37827407",
   "metadata": {},
   "source": [
    "Fully connected"
   ]
  },
  {
   "cell_type": "code",
   "execution_count": 24,
   "id": "bfe8ff9f",
   "metadata": {},
   "outputs": [
    {
     "name": "stderr",
     "output_type": "stream",
     "text": [
      "2023-03-03 09:17:02.183980: I tensorflow/compiler/xla/stream_executor/cuda/cuda_gpu_executor.cc:981] successful NUMA node read from SysFS had negative value (-1), but there must be at least one NUMA node, so returning NUMA node zero\n",
      "2023-03-03 09:17:02.184788: W tensorflow/compiler/xla/stream_executor/platform/default/dso_loader.cc:64] Could not load dynamic library 'libcudart.so.11.0'; dlerror: libcudart.so.11.0: cannot open shared object file: No such file or directory; LD_LIBRARY_PATH: /home/ecal/.local/share/virtualenvs/bci/lib/python3.10/site-packages/brainflow/lib:\n",
      "2023-03-03 09:17:02.185103: W tensorflow/compiler/xla/stream_executor/platform/default/dso_loader.cc:64] Could not load dynamic library 'libcublas.so.11'; dlerror: libcublas.so.11: cannot open shared object file: No such file or directory; LD_LIBRARY_PATH: /home/ecal/.local/share/virtualenvs/bci/lib/python3.10/site-packages/brainflow/lib:\n",
      "2023-03-03 09:17:02.185368: W tensorflow/compiler/xla/stream_executor/platform/default/dso_loader.cc:64] Could not load dynamic library 'libcublasLt.so.11'; dlerror: libcublasLt.so.11: cannot open shared object file: No such file or directory; LD_LIBRARY_PATH: /home/ecal/.local/share/virtualenvs/bci/lib/python3.10/site-packages/brainflow/lib:\n",
      "2023-03-03 09:17:02.185628: W tensorflow/compiler/xla/stream_executor/platform/default/dso_loader.cc:64] Could not load dynamic library 'libcufft.so.10'; dlerror: libcufft.so.10: cannot open shared object file: No such file or directory; LD_LIBRARY_PATH: /home/ecal/.local/share/virtualenvs/bci/lib/python3.10/site-packages/brainflow/lib:\n",
      "2023-03-03 09:17:02.185886: W tensorflow/compiler/xla/stream_executor/platform/default/dso_loader.cc:64] Could not load dynamic library 'libcurand.so.10'; dlerror: libcurand.so.10: cannot open shared object file: No such file or directory; LD_LIBRARY_PATH: /home/ecal/.local/share/virtualenvs/bci/lib/python3.10/site-packages/brainflow/lib:\n",
      "2023-03-03 09:17:02.186173: W tensorflow/compiler/xla/stream_executor/platform/default/dso_loader.cc:64] Could not load dynamic library 'libcusolver.so.11'; dlerror: libcusolver.so.11: cannot open shared object file: No such file or directory; LD_LIBRARY_PATH: /home/ecal/.local/share/virtualenvs/bci/lib/python3.10/site-packages/brainflow/lib:\n",
      "2023-03-03 09:17:02.186432: W tensorflow/compiler/xla/stream_executor/platform/default/dso_loader.cc:64] Could not load dynamic library 'libcusparse.so.11'; dlerror: libcusparse.so.11: cannot open shared object file: No such file or directory; LD_LIBRARY_PATH: /home/ecal/.local/share/virtualenvs/bci/lib/python3.10/site-packages/brainflow/lib:\n",
      "2023-03-03 09:17:02.186682: W tensorflow/compiler/xla/stream_executor/platform/default/dso_loader.cc:64] Could not load dynamic library 'libcudnn.so.8'; dlerror: libcudnn.so.8: cannot open shared object file: No such file or directory; LD_LIBRARY_PATH: /home/ecal/.local/share/virtualenvs/bci/lib/python3.10/site-packages/brainflow/lib:\n",
      "2023-03-03 09:17:02.186718: W tensorflow/core/common_runtime/gpu/gpu_device.cc:1934] Cannot dlopen some GPU libraries. Please make sure the missing libraries mentioned above are installed properly if you would like to use GPU. Follow the guide at https://www.tensorflow.org/install/gpu for how to download and setup the required libraries for your platform.\n",
      "Skipping registering GPU devices...\n",
      "2023-03-03 09:17:02.187988: I tensorflow/core/platform/cpu_feature_guard.cc:193] This TensorFlow binary is optimized with oneAPI Deep Neural Network Library (oneDNN) to use the following CPU instructions in performance-critical operations:  AVX2 FMA\n",
      "To enable them in other operations, rebuild TensorFlow with the appropriate compiler flags.\n"
     ]
    }
   ],
   "source": [
    "# model = tf.keras.Sequential([\n",
    "#     layers.Dense(1)\n",
    "# ])\n",
    "model = tf.keras.Sequential(\n",
    "    [\n",
    "        layers.Dense(16, activation=\"relu\", input_shape=input_dim),\n",
    "        layers.Dense(12, activation=\"relu\"),\n",
    "        layers.Dense(8, activation=\"relu\"),\n",
    "        layers.Dense(1),\n",
    "    ]\n",
    ")"
   ]
  },
  {
   "cell_type": "markdown",
   "id": "d99855f7",
   "metadata": {},
   "source": [
    "RNN"
   ]
  },
  {
   "cell_type": "code",
   "execution_count": null,
   "id": "dae2d981",
   "metadata": {},
   "outputs": [],
   "source": [
    "x_train = x_train.reshape(1, x_train.shape[0], x_train.shape[1])\n",
    "x_test = x_test.reshape(1, x_test.shape[0], x_test.shape[1])\n",
    "\n",
    "y_train = y_train.reshape(1, y_train.shape[0])\n",
    "y_test = y_test.reshape(1, y_test.shape[0])"
   ]
  },
  {
   "cell_type": "code",
   "execution_count": null,
   "id": "0ce34fa7",
   "metadata": {},
   "outputs": [],
   "source": [
    "model = tf.keras.Sequential(\n",
    "    [\n",
    "        layers.InputLayer(input_shape=(None, input_dim[0])),\n",
    "        layers.SimpleRNN(units=64, activation=\"sigmoid\"),\n",
    "        layers.Dense(units=1, activation=\"linear\"),\n",
    "    ]\n",
    ")"
   ]
  },
  {
   "cell_type": "markdown",
   "id": "2241220e",
   "metadata": {},
   "source": [
    "CNN"
   ]
  },
  {
   "cell_type": "code",
   "execution_count": 25,
   "id": "3b82212f",
   "metadata": {},
   "outputs": [],
   "source": [
    "x_train = x_train.reshape(x_train.shape[0], x_train.shape[1], 1)\n",
    "x_test = x_test.reshape(x_test.shape[0], x_test.shape[1], 1)\n",
    "\n",
    "y_train = y_train.reshape(y_train.shape[0], 1)\n",
    "y_test = y_test.reshape(y_test.shape[0], 1)"
   ]
  },
  {
   "cell_type": "code",
   "execution_count": 67,
   "id": "0e2d23e4",
   "metadata": {},
   "outputs": [
    {
     "data": {
      "text/plain": [
       "(198107, 13, 1)"
      ]
     },
     "execution_count": 67,
     "metadata": {},
     "output_type": "execute_result"
    }
   ],
   "source": [
    "x_train.shape"
   ]
  },
  {
   "cell_type": "code",
   "execution_count": 26,
   "id": "bbac7319",
   "metadata": {},
   "outputs": [],
   "source": [
    "model = tf.keras.Sequential(\n",
    "    [\n",
    "        # layers.Reshape((input_dim, 1)),\n",
    "        layers.Conv1D(filters=32, kernel_size=3, activation=\"relu\"),\n",
    "        layers.MaxPooling1D(pool_size=2),\n",
    "        layers.Flatten(),\n",
    "        layers.Dense(units=1, activation=\"linear\"),\n",
    "    ]\n",
    ")"
   ]
  },
  {
   "cell_type": "markdown",
   "id": "43f4237e",
   "metadata": {},
   "source": [
    "Compile"
   ]
  },
  {
   "cell_type": "code",
   "execution_count": 27,
   "id": "de76de6c",
   "metadata": {},
   "outputs": [],
   "source": [
    "# Compile the model\n",
    "\n",
    "# Using mean squared error\n",
    "# model.compile(optimizer='adam', loss='mse', metrics=['accuracy'])\n",
    "\n",
    "# Using custom loss\n",
    "model.compile(optimizer=\"adam\", loss=custom_loss, metrics=[\"accuracy\"])\n",
    "\n",
    "# Print the model summary\n",
    "# model.summary()"
   ]
  },
  {
   "cell_type": "markdown",
   "id": "334b20b7",
   "metadata": {},
   "source": [
    "Train model"
   ]
  },
  {
   "cell_type": "code",
   "execution_count": 28,
   "id": "78746114",
   "metadata": {
    "colab": {
     "base_uri": "https://localhost:8080/"
    }
   },
   "outputs": [
    {
     "name": "stdout",
     "output_type": "stream",
     "text": [
      "(198107, 13, 1)\n"
     ]
    }
   ],
   "source": [
    "print(np.shape(x_train))"
   ]
  },
  {
   "cell_type": "code",
   "execution_count": 29,
   "id": "4f754779",
   "metadata": {
    "colab": {
     "base_uri": "https://localhost:8080/"
    }
   },
   "outputs": [
    {
     "name": "stdout",
     "output_type": "stream",
     "text": [
      "Epoch 1/25\n",
      "3096/3096 [==============================] - 5s 1ms/step - loss: 129.9836 - accuracy: 0.9869 - val_loss: 139.4546 - val_accuracy: 0.9863\n",
      "Epoch 2/25\n",
      "3096/3096 [==============================] - 5s 1ms/step - loss: 129.5677 - accuracy: 0.9873 - val_loss: 139.4543 - val_accuracy: 0.9863\n",
      "Epoch 3/25\n",
      "3096/3096 [==============================] - 5s 1ms/step - loss: 129.5676 - accuracy: 0.9873 - val_loss: 139.4543 - val_accuracy: 0.9863\n",
      "Epoch 4/25\n",
      "3096/3096 [==============================] - 5s 1ms/step - loss: 129.5676 - accuracy: 0.9873 - val_loss: 139.4543 - val_accuracy: 0.9863\n",
      "Epoch 5/25\n",
      "3096/3096 [==============================] - 5s 1ms/step - loss: 129.5676 - accuracy: 0.9873 - val_loss: 139.4543 - val_accuracy: 0.9863\n",
      "Epoch 6/25\n",
      "3096/3096 [==============================] - 5s 1ms/step - loss: 129.5675 - accuracy: 0.9873 - val_loss: 139.4557 - val_accuracy: 0.9863\n",
      "Epoch 7/25\n",
      "3096/3096 [==============================] - 5s 1ms/step - loss: 129.5675 - accuracy: 0.9873 - val_loss: 139.4543 - val_accuracy: 0.9863\n",
      "Epoch 8/25\n",
      "3096/3096 [==============================] - 5s 1ms/step - loss: 129.5675 - accuracy: 0.9873 - val_loss: 139.4543 - val_accuracy: 0.9863\n",
      "Epoch 9/25\n",
      "3096/3096 [==============================] - 4s 1ms/step - loss: 129.5675 - accuracy: 0.9873 - val_loss: 139.4543 - val_accuracy: 0.9863\n",
      "Epoch 10/25\n",
      "3096/3096 [==============================] - 5s 1ms/step - loss: 129.5675 - accuracy: 0.9873 - val_loss: 139.4542 - val_accuracy: 0.9863\n",
      "Epoch 11/25\n",
      "3096/3096 [==============================] - 5s 2ms/step - loss: 129.5675 - accuracy: 0.9873 - val_loss: 139.4543 - val_accuracy: 0.9863\n",
      "Epoch 12/25\n",
      "3096/3096 [==============================] - 4s 1ms/step - loss: 129.5675 - accuracy: 0.9873 - val_loss: 139.4543 - val_accuracy: 0.9863\n",
      "Epoch 13/25\n",
      "3096/3096 [==============================] - 5s 1ms/step - loss: 129.5675 - accuracy: 0.9873 - val_loss: 139.4543 - val_accuracy: 0.9863\n",
      "Epoch 14/25\n",
      "3096/3096 [==============================] - 4s 1ms/step - loss: 129.5675 - accuracy: 0.9873 - val_loss: 139.4543 - val_accuracy: 0.9863\n",
      "Epoch 15/25\n",
      "3096/3096 [==============================] - 5s 1ms/step - loss: 129.5675 - accuracy: 0.9873 - val_loss: 139.4543 - val_accuracy: 0.9863\n",
      "Epoch 16/25\n",
      "3096/3096 [==============================] - 4s 1ms/step - loss: 129.5675 - accuracy: 0.9873 - val_loss: 139.4543 - val_accuracy: 0.9863\n",
      "Epoch 17/25\n",
      "3096/3096 [==============================] - 5s 1ms/step - loss: 129.5675 - accuracy: 0.9873 - val_loss: 139.4543 - val_accuracy: 0.9863\n",
      "Epoch 18/25\n",
      "3096/3096 [==============================] - 5s 1ms/step - loss: 129.5675 - accuracy: 0.9873 - val_loss: 139.4543 - val_accuracy: 0.9863\n",
      "Epoch 19/25\n",
      "3096/3096 [==============================] - 5s 1ms/step - loss: 129.5675 - accuracy: 0.9873 - val_loss: 139.4543 - val_accuracy: 0.9863\n",
      "Epoch 20/25\n",
      "3096/3096 [==============================] - 5s 1ms/step - loss: 129.5675 - accuracy: 0.9873 - val_loss: 139.4543 - val_accuracy: 0.9863\n",
      "Epoch 21/25\n",
      "3096/3096 [==============================] - 5s 1ms/step - loss: 129.5675 - accuracy: 0.9873 - val_loss: 139.4543 - val_accuracy: 0.9863\n",
      "Epoch 22/25\n",
      "3096/3096 [==============================] - 5s 1ms/step - loss: 129.5675 - accuracy: 0.9873 - val_loss: 139.4543 - val_accuracy: 0.9863\n",
      "Epoch 23/25\n",
      "3096/3096 [==============================] - 5s 1ms/step - loss: 129.5675 - accuracy: 0.9873 - val_loss: 139.4543 - val_accuracy: 0.9863\n",
      "Epoch 24/25\n",
      "3096/3096 [==============================] - 5s 1ms/step - loss: 129.5675 - accuracy: 0.9873 - val_loss: 139.4543 - val_accuracy: 0.9863\n",
      "Epoch 25/25\n",
      "3096/3096 [==============================] - 6s 2ms/step - loss: 129.5675 - accuracy: 0.9873 - val_loss: 139.4543 - val_accuracy: 0.9863\n"
     ]
    },
    {
     "data": {
      "text/plain": [
       "<keras.callbacks.History at 0x7efd298f7670>"
      ]
     },
     "execution_count": 29,
     "metadata": {},
     "output_type": "execute_result"
    }
   ],
   "source": [
    "model.fit(x_train, y_train, batch_size=64, epochs=25, validation_data=(x_test, y_test))"
   ]
  },
  {
   "cell_type": "code",
   "execution_count": 30,
   "id": "df6b1b9e",
   "metadata": {
    "colab": {
     "base_uri": "https://localhost:8080/",
     "height": 283
    }
   },
   "outputs": [
    {
     "data": {
      "text/plain": [
       "[<matplotlib.lines.Line2D at 0x7efd25ba6170>]"
      ]
     },
     "execution_count": 30,
     "metadata": {},
     "output_type": "execute_result"
    },
    {
     "data": {
      "image/png": "[encoded data removed]",
      "text/plain": [
       "<Figure size 640x480 with 1 Axes>"
      ]
     },
     "metadata": {},
     "output_type": "display_data"
    }
   ],
   "source": [
    "plt.plot(model.history.history[\"val_accuracy\"])"
   ]
  },
  {
   "cell_type": "markdown",
   "id": "4efc19b0",
   "metadata": {},
   "source": [
    "# Pytorch"
   ]
  },
  {
   "cell_type": "code",
   "execution_count": 44,
   "id": "41c7886a",
   "metadata": {},
   "outputs": [
    {
     "data": {
      "text/plain": [
       "'cuda'"
      ]
     },
     "execution_count": 44,
     "metadata": {},
     "output_type": "execute_result"
    }
   ],
   "source": [
    "device = torch.device(\"cuda\" if torch.cuda.is_available() else \"cpu\")\n",
    "device.type"
   ]
  },
  {
   "cell_type": "code",
   "execution_count": 45,
   "id": "e882d6ac",
   "metadata": {},
   "outputs": [],
   "source": [
    "CHANNELS = 8\n",
    "SAMPLE_HZ = 250"
   ]
  },
  {
   "cell_type": "code",
   "execution_count": 61,
   "id": "f9a9f1b5",
   "metadata": {},
   "outputs": [],
   "source": [
    "class EEGNet(nn.Module):\n",
    "    def __init__(\n",
    "        self,\n",
    "        n_classes,\n",
    "        channels=CHANNELS,\n",
    "        sample_hz=SAMPLE_HZ,\n",
    "        dropout_rate=0.5,\n",
    "        kernel_len=SAMPLE_HZ // 2,\n",
    "        tfilter1=8,\n",
    "        n_spatial_filters=2,\n",
    "        tfilter2=None,  # tfilter1 * n_spatial_filters\n",
    "        norm_rate=0.25,\n",
    "        dropout_type=\"Dropout\",\n",
    "    ):\n",
    "        super(EEGNet, self).__init__()\n",
    "        self.nb_classes = n_classes\n",
    "        self.channels = channels\n",
    "        self.sample_hz = sample_hz\n",
    "        self.dropout_rate = dropout_rate\n",
    "        self.kernel_len = kernel_len\n",
    "        self.tfilter1 = tfilter1\n",
    "        self.n_spatial_filters = n_spatial_filters\n",
    "        if tfilter2 is None:\n",
    "            self.tfilter2 = tfilter1 * n_spatial_filters\n",
    "        else:\n",
    "            self.tfilter2 = tfilter2\n",
    "        self.norm_rate = norm_rate\n",
    "\n",
    "        if dropout_type == \"Dropout2D\":\n",
    "            self.dropout = nn.Dropout2d\n",
    "        elif dropout_type == \"Dropout\":\n",
    "            self.dropout = nn.Dropout\n",
    "        else:\n",
    "            raise ValueError(\n",
    "                \"dropoutType must be one of Dropout2D or Dropout, passed as a string.\"\n",
    "            )\n",
    "\n",
    "        self.conv1 = nn.Conv2d(\n",
    "            1,\n",
    "            self.tfilter1,\n",
    "            kernel_size=(1, self.kernel_len),\n",
    "            padding=(0, self.kernel_len // 2),\n",
    "            bias=False,\n",
    "        )\n",
    "        self.bn1 = nn.BatchNorm2d(self.tfilter1)\n",
    "        self.depthwise = nn.Conv2d(\n",
    "            self.tfilter1,\n",
    "            self.tfilter1 * self.n_spatial_filters,\n",
    "            kernel_size=(self.channels, 1),\n",
    "            groups=self.tfilter1,\n",
    "            bias=False,\n",
    "        )\n",
    "        self.bn2 = nn.BatchNorm2d(self.tfilter1 * self.n_spatial_filters)\n",
    "        self.separable_conv = nn.Conv2d(\n",
    "            self.tfilter1 * self.n_spatial_filters,\n",
    "            self.tfilter2,\n",
    "            kernel_size=(1, 16),\n",
    "            padding=(0, 8),\n",
    "            bias=False,\n",
    "        )\n",
    "        self.bn3 = nn.BatchNorm2d(self.tfilter2)\n",
    "        self.flatten = nn.Flatten()\n",
    "        self.dense = nn.Linear(self.tfilter2 * 4, self.nb_classes)\n",
    "\n",
    "    def forward(self, x):\n",
    "        print(x.shape)\n",
    "        x = self.conv1(x)\n",
    "        x = self.bn1(x)\n",
    "        x = F.elu(x)\n",
    "        x = self.depthwise(x)\n",
    "        x = self.bn2(x)\n",
    "        x = F.elu(x)\n",
    "        x = F.avg_pool2d(x, kernel_size=(1, 4))\n",
    "        x = self.dropout(p=self.dropout_rate)(x)\n",
    "\n",
    "        x = self.separable_conv(x)\n",
    "        x = self.bn3(x)\n",
    "        x = F.elu(x)\n",
    "        x = F.avg_pool2d(x, kernel_size=(1, 8))\n",
    "        x = self.dropout(p=self.dropout_rate)(x)\n",
    "\n",
    "        x = self.flatten(x)\n",
    "        x = F.linear(\n",
    "            x,\n",
    "            self.dense.weight\n",
    "            * torch.clamp(torch.norm(self.dense.weight), max=self.norm_rate)\n",
    "            / torch.norm(self.dense.weight),\n",
    "        )\n",
    "        x = F.softmax(x, dim=1)\n",
    "\n",
    "        return x"
   ]
  },
  {
   "cell_type": "code",
   "execution_count": 54,
   "id": "76f14b99",
   "metadata": {},
   "outputs": [],
   "source": [
    "# reshape for EEGNet\n",
    "x_train = x_train.reshape(x_train.shape[0], x_train.shape[1], 1)\n",
    "x_test = x_test.reshape(x_test.shape[0], x_test.shape[1], 1)\n",
    "\n",
    "y_train = y_train.reshape(y_train.shape[0], 1)\n",
    "y_train = y_train.reshape(y_train.shape[0], 1)"
   ]
  },
  {
   "cell_type": "code",
   "execution_count": 55,
   "id": "b959fb2d",
   "metadata": {},
   "outputs": [],
   "source": [
    "# convert to torch tensor\n",
    "x_train_tensor = torch.from_numpy(x_train).to(device)\n",
    "x_test_tensor = torch.from_numpy(x_test).to(device)\n",
    "\n",
    "y_train_tensor = torch.from_numpy(y_train).to(device)\n",
    "y_test_tensor = torch.from_numpy(y_test).to(device)"
   ]
  },
  {
   "cell_type": "code",
   "execution_count": 56,
   "id": "11a71571",
   "metadata": {},
   "outputs": [],
   "source": [
    "# create dataset\n",
    "train_dataset = TensorDataset(x_train_tensor, y_train_tensor)\n",
    "test_dataset = TensorDataset(x_test_tensor, y_test_tensor)"
   ]
  },
  {
   "cell_type": "code",
   "execution_count": 57,
   "id": "206a9699",
   "metadata": {},
   "outputs": [],
   "source": [
    "# create dataloader\n",
    "train_loader = DataLoader(train_dataset, batch_size=64, shuffle=True)\n",
    "test_loader = DataLoader(test_dataset, batch_size=64, shuffle=True)"
   ]
  },
  {
   "cell_type": "code",
   "execution_count": 66,
   "id": "9403fb8a",
   "metadata": {},
   "outputs": [
    {
     "data": {
      "text/plain": [
       "(198107, 13, 1)"
      ]
     },
     "execution_count": 66,
     "metadata": {},
     "output_type": "execute_result"
    }
   ],
   "source": [
    "x_train.shape"
   ]
  },
  {
   "cell_type": "code",
   "execution_count": 63,
   "id": "94bcefb9",
   "metadata": {},
   "outputs": [],
   "source": [
    "# Define the loss function and optimizer\n",
    "\n",
    "# create model\n",
    "model = EEGNet(n_classes=2).to(device)"
   ]
  },
  {
   "cell_type": "code",
   "execution_count": 65,
   "id": "117326a2",
   "metadata": {},
   "outputs": [],
   "source": [
    "criterion = nn.CrossEntropyLoss()\n",
    "optimizer = optim.Adam(model.parameters(), lr=0.001)"
   ]
  },
  {
   "cell_type": "code",
   "execution_count": null,
   "id": "753e59c8",
   "metadata": {},
   "outputs": [],
   "source": [
    "# Training loop\n",
    "\n",
    "num_epochs = 10\n",
    "for epoch in range(num_epochs):\n",
    "    # Training\n",
    "    train_loss = 0.0\n",
    "    train_acc = 0.0\n",
    "    model.train()\n",
    "    for batch_idx, (df, target) in enumerate(train_loader):\n",
    "        optimizer.zero_grad()\n",
    "        outputs = model(df)\n",
    "        loss = criterion(outputs, target)\n",
    "        loss.backward()\n",
    "        optimizer.step()\n",
    "        train_loss += loss.item() * df.size(0)\n",
    "        _, pred = torch.max(outputs, 1)\n",
    "        train_acc += torch.sum(pred == target.data)\n",
    "\n",
    "    train_loss = train_loss / len(train_loader.dataset)\n",
    "    train_acc = train_acc / len(train_loader.dataset)\n",
    "\n",
    "    # Validation\n",
    "    val_loss = 0.0\n",
    "    val_acc = 0.0\n",
    "    model.eval()\n",
    "    with torch.no_grad():\n",
    "        for batch_idx, (df, target) in enumerate(val_loader):\n",
    "            outputs = model(df)\n",
    "            loss = criterion(outputs, target)\n",
    "            val_loss += loss.item() * df.size(0)\n",
    "            _, pred = torch.max(outputs, 1)\n",
    "            val_acc += torch.sum(pred == target.data)\n",
    "\n",
    "    val_loss = val_loss / len(val_loader.dataset)\n",
    "    val_acc = val_acc / len(val_loader.dataset)\n",
    "\n",
    "    print(\n",
    "        f\"Epoch {epoch+1}/{num_epochs}, Train Loss: {train_loss:.4f}, Train Acc: {train_acc:.4f}, Val Loss: {val_loss:.4f}, Val Acc: {val_acc:.4f}\"\n",
    "    )"
   ]
  },
  {
   "cell_type": "markdown",
   "id": "ec1449d2",
   "metadata": {},
   "source": [
    "# Graphical Testing"
   ]
  },
  {
   "cell_type": "code",
   "execution_count": 31,
   "id": "4b52349f",
   "metadata": {},
   "outputs": [],
   "source": [
    "y_pred = model(x_data)"
   ]
  },
  {
   "cell_type": "code",
   "execution_count": 32,
   "id": "68e0d30c",
   "metadata": {
    "colab": {
     "base_uri": "https://localhost:8080/"
    }
   },
   "outputs": [
    {
     "name": "stdout",
     "output_type": "stream",
     "text": [
      "[0.01248703]\n"
     ]
    }
   ],
   "source": [
    "print(np.unique(y_pred))"
   ]
  },
  {
   "cell_type": "code",
   "execution_count": 35,
   "id": "114a4a9f",
   "metadata": {
    "colab": {
     "base_uri": "https://localhost:8080/",
     "height": 265
    }
   },
   "outputs": [
    {
     "data": {
      "image/png": "[encoded data removed]",
      "text/plain": [
       "<Figure size 640x480 with 1 Axes>"
      ]
     },
     "metadata": {},
     "output_type": "display_data"
    }
   ],
   "source": [
    "start = 77450\n",
    "interval = 1900\n",
    "\n",
    "scaled = np.array(y_pred[start : start + interval])\n",
    "\n",
    "plt.plot(y_data[start : start + interval])\n",
    "# plt.plot(y_pred[start:start+interval])\n",
    "plt.plot(scaled)\n",
    "plt.show()"
   ]
  },
  {
   "cell_type": "code",
   "execution_count": null,
   "id": "251ffe0d",
   "metadata": {
    "colab": {
     "base_uri": "https://localhost:8080/",
     "height": 372
    }
   },
   "outputs": [],
   "source": [
    "y_smoother = []\n",
    "delta = 5\n",
    "theshold = 0.75\n",
    "\n",
    "y_smoother = [\n",
    "    int(max(y_pred[i : i + delta]) > theshold) for i in range(len(y_pred) - delta)\n",
    "]\n",
    "\n",
    "for i in range(delta):\n",
    "    y_smoother.append(0)\n",
    "\n",
    "\n",
    "y_smoother = np.arrray(y_smoother)"
   ]
  },
  {
   "cell_type": "code",
   "execution_count": null,
   "id": "1284df2f",
   "metadata": {},
   "outputs": [],
   "source": [
    "start = 77450\n",
    "interval = 1900\n",
    "\n",
    "plt.plot(y_data[start : start + interval])\n",
    "# plt.plot(y_pred[start:start+interval])\n",
    "plt.plot(y_smoother[start : start + interval])\n",
    "plt.show()"
   ]
  },
  {
   "cell_type": "code",
   "execution_count": null,
   "id": "424daeb4",
   "metadata": {},
   "outputs": [],
   "source": [
    "from matplotlib import rc\n",
    "\n",
    "rc(\"animation\", html=\"jshtml\")\n",
    "from math import *\n",
    "\n",
    "import matplotlib.animation as animation\n",
    "import matplotlib.pyplot as plt\n",
    "import numpy as np\n",
    "from mpl_toolkits import mplot3d"
   ]
  },
  {
   "cell_type": "code",
   "execution_count": null,
   "id": "fc4d6534",
   "metadata": {
    "colab": {
     "background_save": true,
     "base_uri": "https://localhost:8080/",
     "height": 596
    }
   },
   "outputs": [],
   "source": [
    "delta_i = 800\n",
    "\n",
    "n = 1000 - delta_i\n",
    "samplerate = 80\n",
    "fr = n // samplerate  # Number of frames\n",
    "sim_time = 100  # time for sim to fully run\n",
    "inter = n / (sim_time * samplerate)\n",
    "\n",
    "fig, axs = plt.subplots(1, 1, figsize=(13, 10))\n",
    "\n",
    "# Line Initialization\n",
    "(line1,) = axs.plot([], [], lw=2)\n",
    "(line2,) = axs.plot([], [], lw=2)\n",
    "\n",
    "\n",
    "# Titles\n",
    "# axs.set_title('Wavefunction Over Time', size = fs)\n",
    "\n",
    "# fig.text(0.5, 0.95, \"V(x) = {},\".format(V(x)), ha='center', fontsize = fs)\n",
    "# # trans = axs[0,1].get_xaxis_transform() # x in data untis, y in axes fraction\n",
    "# axs.text(-0.35,0, \"Frame =\", ha=\"center\", fontsize = fs)\n",
    "# # time = axs[0,1].annotate('', xy=(1.1, 1.1), annotation_clip = False)\n",
    "# time_temp = '%.1f'\n",
    "# time = axs[0,0].text(0.55, 0.5, '', transform=axs[0,0].transAxes)\n",
    "\n",
    "# #Axes Initialization\n",
    "axs.set_ylim(-0.5, 1.5)\n",
    "axs.set_xlim(0, 800)\n",
    "\n",
    "# axs.set_xlabel('$x$ $pos$ ($arb. units$)')     # add labels\n",
    "# axs.set_ylabel('$\\psi$ ($arb. units$)')\n",
    "axs.grid()\n",
    "\n",
    "\n",
    "# Initialization function\n",
    "def init():\n",
    "    line1.set_data([], [])\n",
    "    line2.set_data([], [])\n",
    "    return (\n",
    "        line1,\n",
    "        line2,\n",
    "    )\n",
    "\n",
    "\n",
    "# Animation function\n",
    "def animate(i):\n",
    "    # time.set_text(time_temp%(i))\n",
    "\n",
    "    line1.set_data([j for j in range(delta_i)], y_data[i : i + delta_i])\n",
    "    line2.set_data([j for j in range(delta_i)], y_pred[i : i + delta_i])\n",
    "    # time.set_text(i*samplerate)\n",
    "    return (\n",
    "        line1,\n",
    "        line2,\n",
    "    )\n",
    "\n",
    "\n",
    "# Call Animation\n",
    "anim = animation.FuncAnimation(\n",
    "    fig, animate, init_func=init, frames=fr, interval=inter, blit=True\n",
    ")\n",
    "# plt.savefig('./h=0.02.pdf', format='pdf', dpi=1200,bbox_inches = 'tight')"
   ]
  },
  {
   "cell_type": "code",
   "execution_count": null,
   "id": "7f773daa",
   "metadata": {
    "colab": {
     "background_save": true,
     "base_uri": "https://localhost:8080/",
     "height": 822
    }
   },
   "outputs": [],
   "source": [
    "anim"
   ]
  },
  {
   "cell_type": "code",
   "execution_count": null,
   "id": "727b2545",
   "metadata": {
    "colab": {
     "base_uri": "https://localhost:8080/",
     "height": 283
    }
   },
   "outputs": [],
   "source": [
    "plt.plot(freq_list[:], x_test[59])"
   ]
  },
  {
   "cell_type": "markdown",
   "id": "6666fea8",
   "metadata": {},
   "source": [
    "Testing with validation data"
   ]
  },
  {
   "cell_type": "code",
   "execution_count": null,
   "id": "9df85c0a",
   "metadata": {
    "colab": {
     "background_save": true
    }
   },
   "outputs": [],
   "source": [
    "x_valid_copy = x_valid\n",
    "y_valid_copy = y_valid"
   ]
  },
  {
   "cell_type": "code",
   "execution_count": null,
   "id": "595bf788",
   "metadata": {},
   "outputs": [],
   "source": [
    "x_valid = np.array(x_valid)\n",
    "y_valid = np.array(y_valid)\n",
    "\n",
    "\n",
    "x_valid = x_valid.reshape(x_valid.shape[0], x_valid.shape[1], 1)\n",
    "y_valid = y_valid.reshape(y_valid.shape[0], 1)"
   ]
  },
  {
   "cell_type": "code",
   "execution_count": null,
   "id": "64025eff",
   "metadata": {
    "colab": {
     "base_uri": "https://localhost:8080/"
    }
   },
   "outputs": [],
   "source": [
    "valid_pred = model(x_valid)\n",
    "print(np.unique(valid_pred))"
   ]
  },
  {
   "cell_type": "code",
   "execution_count": null,
   "id": "e7f6bb8d",
   "metadata": {
    "colab": {
     "base_uri": "https://localhost:8080/",
     "height": 266
    }
   },
   "outputs": [],
   "source": [
    "start = 9970\n",
    "interval = 1600\n",
    "\n",
    "scaled = 2 * np.array(valid_pred[start : start + interval])\n",
    "\n",
    "plt.plot(y_valid[start : start + interval])\n",
    "# plt.plot(y_pred[start:start+interval])\n",
    "plt.plot(scaled)\n",
    "plt.show()"
   ]
  },
  {
   "cell_type": "markdown",
   "id": "28de947b",
   "metadata": {},
   "source": [
    "Reshape for RNN"
   ]
  },
  {
   "cell_type": "code",
   "execution_count": null,
   "id": "b7883f90",
   "metadata": {},
   "outputs": [],
   "source": [
    "# Reshape\n",
    "x_valid = x_valid.reshape(1, x_valid.shape[0], x_valid.shape[1])\n",
    "y_valid = y_valid.reshape(1, y_valid.shape[0])"
   ]
  },
  {
   "cell_type": "code",
   "execution_count": null,
   "id": "c78e0c3f",
   "metadata": {},
   "outputs": [],
   "source": [
    "# Reverse Reshape\n",
    "x_valid = x_valid.reshape(x_valid.shape[1], x_valid.shape[2], 1)\n",
    "y_valid = y_valid.reshape(y_valid.shape[1], 1)"
   ]
  },
  {
   "cell_type": "markdown",
   "id": "03b0ad1b",
   "metadata": {
    "lines_to_next_cell": 0
   },
   "source": [
    "Prayer\n",
    "\n",
    "from sklearn.ensemble import RandomForestClassifier"
   ]
  },
  {
   "cell_type": "code",
   "execution_count": null,
   "id": "5ff3b767",
   "metadata": {},
   "outputs": [],
   "source": [
    "from sklearn.linear_model import LogisticRegression\n",
    "from sklearn.naive_bayes import GaussianNB\n",
    "from sklearn.svm import SVC"
   ]
  },
  {
   "cell_type": "code",
   "execution_count": null,
   "id": "78b119aa",
   "metadata": {
    "colab": {
     "base_uri": "https://localhost:8080/",
     "height": 380
    }
   },
   "outputs": [],
   "source": [
    "# Option 1: Logistic Regression\n",
    "lr = LogisticRegression(max_iter=1000)\n",
    "lr.fit(x_train, y_train)\n",
    "y_pred_lr = lr.predict(x_test)"
   ]
  },
  {
   "cell_type": "code",
   "execution_count": null,
   "id": "137dd3a1",
   "metadata": {},
   "outputs": [],
   "source": [
    "# Option 2: Random Forest\n",
    "rf = RandomForestClassifier()\n",
    "rf.fit(x_train, y_train)\n",
    "y_pred_rf = rf.predict(x_test)"
   ]
  },
  {
   "cell_type": "code",
   "execution_count": null,
   "id": "f4d7be0f",
   "metadata": {},
   "outputs": [],
   "source": [
    "# Option 3: SVM\n",
    "svm = SVC()\n",
    "svm.fit(x_train, y_train)\n",
    "y_pred_svm = svm.predict(x_test)"
   ]
  },
  {
   "cell_type": "code",
   "execution_count": null,
   "id": "7dc2328a",
   "metadata": {},
   "outputs": [],
   "source": [
    "# Option 5: Naive Bayes\n",
    "nb = GaussianNB()\n",
    "nb.fit(x_train, y_train)\n",
    "y_pred_nb = nb.predict(x_test)"
   ]
  },
  {
   "cell_type": "code",
   "execution_count": null,
   "id": "75d7a99b",
   "metadata": {},
   "outputs": [],
   "source": [
    "print(np.unique(y_pred_nb))\n",
    "print(nb.score(x_test, y_test))"
   ]
  },
  {
   "cell_type": "code",
   "execution_count": null,
   "id": "262cd40e",
   "metadata": {},
   "outputs": [],
   "source": [
    "start = 0\n",
    "interval = 24000\n",
    "\n",
    "scaled = np.array(y_pred_nb[start : start + interval])\n",
    "\n",
    "# plt.plot(y_test[start:start+interval])\n",
    "# plt.plot(y_pred[start:start+interval])\n",
    "plt.plot(scaled)\n",
    "plt.show()"
   ]
  },
  {
   "cell_type": "markdown",
   "id": "f7e524ec",
   "metadata": {},
   "source": [
    "#Clear GPU"
   ]
  },
  {
   "cell_type": "code",
   "execution_count": null,
   "id": "d6ec9cd4",
   "metadata": {},
   "outputs": [],
   "source": [
    "tf.keras.backend.clear_session()"
   ]
  }
 ],
 "metadata": {
  "jupytext": {
   "cell_metadata_filter": "-all",
   "formats": "ipynb,py:percent",
   "notebook_metadata_filter": "-all"
  },
  "kernelspec": {
   "display_name": "bci",
   "language": "python",
   "name": "bci"
  },
  "language_info": {
   "codemirror_mode": {
    "name": "ipython",
    "version": 3
   },
   "file_extension": ".py",
   "mimetype": "text/x-python",
   "name": "python",
   "nbconvert_exporter": "python",
   "pygments_lexer": "ipython3",
   "version": "3.10.9"
  }
 },
 "nbformat": 4,
 "nbformat_minor": 5
}
