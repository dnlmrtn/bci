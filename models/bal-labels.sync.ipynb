{
 "cells": [
  {
   "cell_type": "markdown",
   "id": "1daca7b7",
   "metadata": {},
   "source": [
    "# Imports"
   ]
  },
  {
   "cell_type": "code",
   "execution_count": 299,
   "id": "0ea701f4",
   "metadata": {},
   "outputs": [],
   "source": [
    "import logging\n",
    "import time\n",
    "\n",
    "import numpy as np\n",
    "import pandas as pd\n",
    "import tensorflow as tf\n",
    "import torch\n",
    "import torch.nn as nn\n",
    "import torch.nn.functional as F\n",
    "import torch.optim as optim\n",
    "from brainflow import *\n",
    "from keras import constraints, layers, optimizers\n",
    "from keras.utils import to_categorical\n",
    "from matplotlib import pyplot as plt\n",
    "from scipy import signal\n",
    "from sklearn.metrics import classification_report, confusion_matrix\n",
    "from sklearn.model_selection import train_test_split\n",
    "from torch.utils.data import DataLoader, TensorDataset"
   ]
  },
  {
   "cell_type": "markdown",
   "id": "a63a5535",
   "metadata": {},
   "source": [
    "# Load Data"
   ]
  },
  {
   "cell_type": "code",
   "execution_count": 300,
   "id": "00aae460",
   "metadata": {},
   "outputs": [
    {
     "data": {
      "text/html": [
       "<div>\n",
       "<style scoped>\n",
       "    .dataframe tbody tr th:only-of-type {\n",
       "        vertical-align: middle;\n",
       "    }\n",
       "\n",
       "    .dataframe tbody tr th {\n",
       "        vertical-align: top;\n",
       "    }\n",
       "\n",
       "    .dataframe thead th {\n",
       "        text-align: right;\n",
       "    }\n",
       "</style>\n",
       "<table border=\"1\" class=\"dataframe\">\n",
       "  <thead>\n",
       "    <tr style=\"text-align: right;\">\n",
       "      <th></th>\n",
       "      <th>sample</th>\n",
       "      <th>packet</th>\n",
       "      <th>eeg1</th>\n",
       "      <th>eeg2</th>\n",
       "      <th>eeg3</th>\n",
       "      <th>eeg4</th>\n",
       "      <th>eeg5</th>\n",
       "      <th>eeg6</th>\n",
       "      <th>eeg7</th>\n",
       "      <th>eeg8</th>\n",
       "      <th>...</th>\n",
       "      <th>other3</th>\n",
       "      <th>other4</th>\n",
       "      <th>other5</th>\n",
       "      <th>other6</th>\n",
       "      <th>other7</th>\n",
       "      <th>analog1</th>\n",
       "      <th>analog2</th>\n",
       "      <th>analog3</th>\n",
       "      <th>timestamp</th>\n",
       "      <th>marker</th>\n",
       "    </tr>\n",
       "  </thead>\n",
       "  <tbody>\n",
       "    <tr>\n",
       "      <th>1250</th>\n",
       "      <td>1250</td>\n",
       "      <td>226.0</td>\n",
       "      <td>479.456089</td>\n",
       "      <td>808.791727</td>\n",
       "      <td>-999.518706</td>\n",
       "      <td>-890.343511</td>\n",
       "      <td>3976.856293</td>\n",
       "      <td>162.700392</td>\n",
       "      <td>-975.344538</td>\n",
       "      <td>-400.449769</td>\n",
       "      <td>...</td>\n",
       "      <td>80.0</td>\n",
       "      <td>30.0</td>\n",
       "      <td>128.0</td>\n",
       "      <td>2.0</td>\n",
       "      <td>64.0</td>\n",
       "      <td>0.0</td>\n",
       "      <td>0.0</td>\n",
       "      <td>0.0</td>\n",
       "      <td>1.676478e+09</td>\n",
       "      <td>0</td>\n",
       "    </tr>\n",
       "    <tr>\n",
       "      <th>1251</th>\n",
       "      <td>1251</td>\n",
       "      <td>227.0</td>\n",
       "      <td>480.861965</td>\n",
       "      <td>809.349281</td>\n",
       "      <td>-997.780097</td>\n",
       "      <td>-889.953323</td>\n",
       "      <td>3978.641865</td>\n",
       "      <td>163.546715</td>\n",
       "      <td>-967.924472</td>\n",
       "      <td>-394.095350</td>\n",
       "      <td>...</td>\n",
       "      <td>0.0</td>\n",
       "      <td>0.0</td>\n",
       "      <td>0.0</td>\n",
       "      <td>0.0</td>\n",
       "      <td>0.0</td>\n",
       "      <td>0.0</td>\n",
       "      <td>0.0</td>\n",
       "      <td>0.0</td>\n",
       "      <td>1.676478e+09</td>\n",
       "      <td>0</td>\n",
       "    </tr>\n",
       "    <tr>\n",
       "      <th>1252</th>\n",
       "      <td>1252</td>\n",
       "      <td>228.0</td>\n",
       "      <td>482.959787</td>\n",
       "      <td>811.613970</td>\n",
       "      <td>-997.053678</td>\n",
       "      <td>-890.076225</td>\n",
       "      <td>3979.265367</td>\n",
       "      <td>163.935904</td>\n",
       "      <td>-961.269294</td>\n",
       "      <td>-386.629321</td>\n",
       "      <td>...</td>\n",
       "      <td>0.0</td>\n",
       "      <td>0.0</td>\n",
       "      <td>0.0</td>\n",
       "      <td>0.0</td>\n",
       "      <td>0.0</td>\n",
       "      <td>0.0</td>\n",
       "      <td>0.0</td>\n",
       "      <td>0.0</td>\n",
       "      <td>1.676478e+09</td>\n",
       "      <td>0</td>\n",
       "    </tr>\n",
       "    <tr>\n",
       "      <th>1253</th>\n",
       "      <td>1253</td>\n",
       "      <td>229.0</td>\n",
       "      <td>481.597876</td>\n",
       "      <td>811.125360</td>\n",
       "      <td>-999.174981</td>\n",
       "      <td>-890.885578</td>\n",
       "      <td>3977.095102</td>\n",
       "      <td>162.627950</td>\n",
       "      <td>-968.572453</td>\n",
       "      <td>-393.160098</td>\n",
       "      <td>...</td>\n",
       "      <td>0.0</td>\n",
       "      <td>0.0</td>\n",
       "      <td>0.0</td>\n",
       "      <td>0.0</td>\n",
       "      <td>0.0</td>\n",
       "      <td>0.0</td>\n",
       "      <td>0.0</td>\n",
       "      <td>0.0</td>\n",
       "      <td>1.676478e+09</td>\n",
       "      <td>0</td>\n",
       "    </tr>\n",
       "    <tr>\n",
       "      <th>1254</th>\n",
       "      <td>1254</td>\n",
       "      <td>230.0</td>\n",
       "      <td>479.488563</td>\n",
       "      <td>808.964089</td>\n",
       "      <td>-999.854937</td>\n",
       "      <td>-890.640274</td>\n",
       "      <td>3976.815326</td>\n",
       "      <td>162.475572</td>\n",
       "      <td>-975.514402</td>\n",
       "      <td>-400.742535</td>\n",
       "      <td>...</td>\n",
       "      <td>0.0</td>\n",
       "      <td>0.0</td>\n",
       "      <td>0.0</td>\n",
       "      <td>0.0</td>\n",
       "      <td>0.0</td>\n",
       "      <td>0.0</td>\n",
       "      <td>0.0</td>\n",
       "      <td>0.0</td>\n",
       "      <td>1.676478e+09</td>\n",
       "      <td>0</td>\n",
       "    </tr>\n",
       "  </tbody>\n",
       "</table>\n",
       "<p>5 rows × 25 columns</p>\n",
       "</div>"
      ],
      "text/plain": [
       "      sample  packet        eeg1        eeg2        eeg3        eeg4  \\\n",
       "1250    1250   226.0  479.456089  808.791727 -999.518706 -890.343511   \n",
       "1251    1251   227.0  480.861965  809.349281 -997.780097 -889.953323   \n",
       "1252    1252   228.0  482.959787  811.613970 -997.053678 -890.076225   \n",
       "1253    1253   229.0  481.597876  811.125360 -999.174981 -890.885578   \n",
       "1254    1254   230.0  479.488563  808.964089 -999.854937 -890.640274   \n",
       "\n",
       "             eeg5        eeg6        eeg7        eeg8  ...  other3  other4  \\\n",
       "1250  3976.856293  162.700392 -975.344538 -400.449769  ...    80.0    30.0   \n",
       "1251  3978.641865  163.546715 -967.924472 -394.095350  ...     0.0     0.0   \n",
       "1252  3979.265367  163.935904 -961.269294 -386.629321  ...     0.0     0.0   \n",
       "1253  3977.095102  162.627950 -968.572453 -393.160098  ...     0.0     0.0   \n",
       "1254  3976.815326  162.475572 -975.514402 -400.742535  ...     0.0     0.0   \n",
       "\n",
       "      other5  other6  other7  analog1  analog2  analog3     timestamp  marker  \n",
       "1250   128.0     2.0    64.0      0.0      0.0      0.0  1.676478e+09       0  \n",
       "1251     0.0     0.0     0.0      0.0      0.0      0.0  1.676478e+09       0  \n",
       "1252     0.0     0.0     0.0      0.0      0.0      0.0  1.676478e+09       0  \n",
       "1253     0.0     0.0     0.0      0.0      0.0      0.0  1.676478e+09       0  \n",
       "1254     0.0     0.0     0.0      0.0      0.0      0.0  1.676478e+09       0  \n",
       "\n",
       "[5 rows x 25 columns]"
      ]
     },
     "execution_count": 300,
     "metadata": {},
     "output_type": "execute_result"
    }
   ],
   "source": [
    "data_0 = pd.read_csv(\"../data/60s-l-0.csv\")\n",
    "data_1 = pd.read_csv(\"../data/60s-arm-flap.csv\")\n",
    "\n",
    "SCALE_FACTOR = (4500000) / 24 / (2**23 - 1)\n",
    "FREQ = 250\n",
    "\n",
    "# trim the first and last 5 seconds off the data\n",
    "data_0 = data_0.iloc[5 * FREQ : -5 * FREQ, :]\n",
    "data_1 = data_1.iloc[5 * FREQ : -5 * FREQ, :]\n",
    "\n",
    "# scale the eeg columns (eeg1 - eeg8) by SCALE_FACTOR\n",
    "eeg_cols = [f\"eeg{i}\" for i in range(1, 9)]\n",
    "data_0[eeg_cols] = data_0[eeg_cols] * SCALE_FACTOR\n",
    "data_1[eeg_cols] = data_1[eeg_cols] * SCALE_FACTOR\n",
    "\n",
    "data = pd.concat([data_0, data_1])\n",
    "data.head()"
   ]
  },
  {
   "cell_type": "markdown",
   "id": "8bffc4d9",
   "metadata": {},
   "source": [
    "# Preprocess Data"
   ]
  },
  {
   "cell_type": "code",
   "execution_count": 301,
   "id": "747b7ae5",
   "metadata": {},
   "outputs": [],
   "source": [
    "eeg_data = []\n",
    "for i in range(1, 9):\n",
    "    eeg_data.append(data[f\"eeg{i}\"][:])\n",
    "eeg_data = np.array(eeg_data)\n",
    "\n",
    "timestamps = data[\"timestamp\"][:]\n",
    "markers = data[\"marker\"][:]"
   ]
  },
  {
   "cell_type": "markdown",
   "id": "4dbbdb12",
   "metadata": {},
   "source": [
    "## Filters"
   ]
  },
  {
   "cell_type": "code",
   "execution_count": 302,
   "id": "ea154551",
   "metadata": {
    "lines_to_next_cell": 2
   },
   "outputs": [],
   "source": [
    "NOTCH_SIZE = 3\n",
    "\n",
    "\n",
    "def notch_filter(signal_data, notch_freq=60, notch_size=NOTCH_SIZE, fs=250):\n",
    "    \"\"\"Removes background noise at 60 hz (power lines)\"\"\"\n",
    "    notch_freq_Hz = np.array([float(notch_freq)])\n",
    "    fin = signal_data\n",
    "    for freq_Hz in np.nditer(notch_freq_Hz):\n",
    "        bp_stop_Hz = freq_Hz + notch_size * np.array([-1, 1])\n",
    "        b, a = signal.butter(3, bp_stop_Hz / (fs / 2.0), \"bandstop\")\n",
    "        fin = signal_data = signal.lfilter(b, a, signal_data)\n",
    "    return fin"
   ]
  },
  {
   "cell_type": "code",
   "execution_count": 303,
   "id": "329767ff",
   "metadata": {},
   "outputs": [],
   "source": [
    "FREQ_LOW = 13\n",
    "FREQ_HIGH = 80\n",
    "\n",
    "\n",
    "def bandpass(data, lowcut=FREQ_LOW, highcut=FREQ_HIGH, fs=250):\n",
    "    \"\"\"Smooths and reduces gain depending on specified frequency band\"\"\"\n",
    "    nyquist = 0.5 * fs\n",
    "    low = lowcut / nyquist\n",
    "    high = highcut / nyquist\n",
    "    b, a = signal.butter(4, [low, high], btype=\"band\")\n",
    "    filtered_data = signal.filtfilt(b, a, data)\n",
    "    return filtered_data"
   ]
  },
  {
   "cell_type": "code",
   "execution_count": 304,
   "id": "91032691",
   "metadata": {},
   "outputs": [
    {
     "data": {
      "text/html": [
       "<div>\n",
       "<style scoped>\n",
       "    .dataframe tbody tr th:only-of-type {\n",
       "        vertical-align: middle;\n",
       "    }\n",
       "\n",
       "    .dataframe tbody tr th {\n",
       "        vertical-align: top;\n",
       "    }\n",
       "\n",
       "    .dataframe thead th {\n",
       "        text-align: right;\n",
       "    }\n",
       "</style>\n",
       "<table border=\"1\" class=\"dataframe\">\n",
       "  <thead>\n",
       "    <tr style=\"text-align: right;\">\n",
       "      <th></th>\n",
       "      <th>sample</th>\n",
       "      <th>packet</th>\n",
       "      <th>eeg1</th>\n",
       "      <th>eeg2</th>\n",
       "      <th>eeg3</th>\n",
       "      <th>eeg4</th>\n",
       "      <th>eeg5</th>\n",
       "      <th>eeg6</th>\n",
       "      <th>eeg7</th>\n",
       "      <th>eeg8</th>\n",
       "      <th>...</th>\n",
       "      <th>other3</th>\n",
       "      <th>other4</th>\n",
       "      <th>other5</th>\n",
       "      <th>other6</th>\n",
       "      <th>other7</th>\n",
       "      <th>analog1</th>\n",
       "      <th>analog2</th>\n",
       "      <th>analog3</th>\n",
       "      <th>timestamp</th>\n",
       "      <th>marker</th>\n",
       "    </tr>\n",
       "  </thead>\n",
       "  <tbody>\n",
       "    <tr>\n",
       "      <th>1250</th>\n",
       "      <td>1250</td>\n",
       "      <td>226.0</td>\n",
       "      <td>0.054824</td>\n",
       "      <td>0.086865</td>\n",
       "      <td>-0.094909</td>\n",
       "      <td>-0.087819</td>\n",
       "      <td>0.407193</td>\n",
       "      <td>0.018300</td>\n",
       "      <td>-0.083573</td>\n",
       "      <td>-0.025457</td>\n",
       "      <td>...</td>\n",
       "      <td>80.0</td>\n",
       "      <td>30.0</td>\n",
       "      <td>128.0</td>\n",
       "      <td>2.0</td>\n",
       "      <td>64.0</td>\n",
       "      <td>0.0</td>\n",
       "      <td>0.0</td>\n",
       "      <td>0.0</td>\n",
       "      <td>1.676478e+09</td>\n",
       "      <td>0</td>\n",
       "    </tr>\n",
       "    <tr>\n",
       "      <th>1251</th>\n",
       "      <td>1251</td>\n",
       "      <td>227.0</td>\n",
       "      <td>-11.036057</td>\n",
       "      <td>-20.026793</td>\n",
       "      <td>26.728838</td>\n",
       "      <td>22.921847</td>\n",
       "      <td>-99.064925</td>\n",
       "      <td>-3.319029</td>\n",
       "      <td>30.465858</td>\n",
       "      <td>15.155289</td>\n",
       "      <td>...</td>\n",
       "      <td>0.0</td>\n",
       "      <td>0.0</td>\n",
       "      <td>0.0</td>\n",
       "      <td>0.0</td>\n",
       "      <td>0.0</td>\n",
       "      <td>0.0</td>\n",
       "      <td>0.0</td>\n",
       "      <td>0.0</td>\n",
       "      <td>1.676478e+09</td>\n",
       "      <td>0</td>\n",
       "    </tr>\n",
       "    <tr>\n",
       "      <th>1252</th>\n",
       "      <td>1252</td>\n",
       "      <td>228.0</td>\n",
       "      <td>79.272787</td>\n",
       "      <td>131.946318</td>\n",
       "      <td>-159.738815</td>\n",
       "      <td>-143.420212</td>\n",
       "      <td>642.689317</td>\n",
       "      <td>26.966507</td>\n",
       "      <td>-149.107646</td>\n",
       "      <td>-56.633889</td>\n",
       "      <td>...</td>\n",
       "      <td>0.0</td>\n",
       "      <td>0.0</td>\n",
       "      <td>0.0</td>\n",
       "      <td>0.0</td>\n",
       "      <td>0.0</td>\n",
       "      <td>0.0</td>\n",
       "      <td>0.0</td>\n",
       "      <td>0.0</td>\n",
       "      <td>1.676478e+09</td>\n",
       "      <td>0</td>\n",
       "    </tr>\n",
       "    <tr>\n",
       "      <th>1253</th>\n",
       "      <td>1253</td>\n",
       "      <td>229.0</td>\n",
       "      <td>99.999574</td>\n",
       "      <td>168.023034</td>\n",
       "      <td>-205.810590</td>\n",
       "      <td>-183.796729</td>\n",
       "      <td>819.955579</td>\n",
       "      <td>33.603404</td>\n",
       "      <td>-197.170469</td>\n",
       "      <td>-78.320343</td>\n",
       "      <td>...</td>\n",
       "      <td>0.0</td>\n",
       "      <td>0.0</td>\n",
       "      <td>0.0</td>\n",
       "      <td>0.0</td>\n",
       "      <td>0.0</td>\n",
       "      <td>0.0</td>\n",
       "      <td>0.0</td>\n",
       "      <td>0.0</td>\n",
       "      <td>1.676478e+09</td>\n",
       "      <td>0</td>\n",
       "    </tr>\n",
       "    <tr>\n",
       "      <th>1254</th>\n",
       "      <td>1254</td>\n",
       "      <td>230.0</td>\n",
       "      <td>-13.419009</td>\n",
       "      <td>-22.194914</td>\n",
       "      <td>26.740987</td>\n",
       "      <td>23.994948</td>\n",
       "      <td>-108.265006</td>\n",
       "      <td>-4.589215</td>\n",
       "      <td>25.117646</td>\n",
       "      <td>9.405304</td>\n",
       "      <td>...</td>\n",
       "      <td>0.0</td>\n",
       "      <td>0.0</td>\n",
       "      <td>0.0</td>\n",
       "      <td>0.0</td>\n",
       "      <td>0.0</td>\n",
       "      <td>0.0</td>\n",
       "      <td>0.0</td>\n",
       "      <td>0.0</td>\n",
       "      <td>1.676478e+09</td>\n",
       "      <td>0</td>\n",
       "    </tr>\n",
       "  </tbody>\n",
       "</table>\n",
       "<p>5 rows × 25 columns</p>\n",
       "</div>"
      ],
      "text/plain": [
       "      sample  packet       eeg1        eeg2        eeg3        eeg4  \\\n",
       "1250    1250   226.0   0.054824    0.086865   -0.094909   -0.087819   \n",
       "1251    1251   227.0 -11.036057  -20.026793   26.728838   22.921847   \n",
       "1252    1252   228.0  79.272787  131.946318 -159.738815 -143.420212   \n",
       "1253    1253   229.0  99.999574  168.023034 -205.810590 -183.796729   \n",
       "1254    1254   230.0 -13.419009  -22.194914   26.740987   23.994948   \n",
       "\n",
       "            eeg5       eeg6        eeg7       eeg8  ...  other3  other4  \\\n",
       "1250    0.407193   0.018300   -0.083573  -0.025457  ...    80.0    30.0   \n",
       "1251  -99.064925  -3.319029   30.465858  15.155289  ...     0.0     0.0   \n",
       "1252  642.689317  26.966507 -149.107646 -56.633889  ...     0.0     0.0   \n",
       "1253  819.955579  33.603404 -197.170469 -78.320343  ...     0.0     0.0   \n",
       "1254 -108.265006  -4.589215   25.117646   9.405304  ...     0.0     0.0   \n",
       "\n",
       "      other5  other6  other7  analog1  analog2  analog3     timestamp  marker  \n",
       "1250   128.0     2.0    64.0      0.0      0.0      0.0  1.676478e+09       0  \n",
       "1251     0.0     0.0     0.0      0.0      0.0      0.0  1.676478e+09       0  \n",
       "1252     0.0     0.0     0.0      0.0      0.0      0.0  1.676478e+09       0  \n",
       "1253     0.0     0.0     0.0      0.0      0.0      0.0  1.676478e+09       0  \n",
       "1254     0.0     0.0     0.0      0.0      0.0      0.0  1.676478e+09       0  \n",
       "\n",
       "[5 rows x 25 columns]"
      ]
     },
     "execution_count": 304,
     "metadata": {},
     "output_type": "execute_result"
    }
   ],
   "source": [
    "# Apply filters\n",
    "for col in eeg_cols:\n",
    "    data_filtered = notch_filter(data[col])\n",
    "    data_filtered = bandpass(data_filtered)\n",
    "    data[col] = data_filtered\n",
    "\n",
    "data.head()"
   ]
  },
  {
   "cell_type": "markdown",
   "id": "59a268ee",
   "metadata": {},
   "source": [
    "## Fourier Transforms"
   ]
  },
  {
   "cell_type": "code",
   "execution_count": 305,
   "id": "b3af2fec",
   "metadata": {},
   "outputs": [
    {
     "data": {
      "image/png": "[encoded data removed]",
      "text/plain": [
       "<Figure size 640x480 with 1 Axes>"
      ]
     },
     "metadata": {},
     "output_type": "display_data"
    }
   ],
   "source": [
    "training_fourier = []\n",
    "\n",
    "# Get frequency lists\n",
    "training_freqs = np.fft.fftfreq(data[\"timestamp\"].values.T.shape[-1], d=1 / FREQ)\n",
    "\n",
    "# Get fourier transforms for each channel\n",
    "for i in range(8):\n",
    "    training_fourier.append(np.absolute(np.fft.fft(data[f\"eeg{i+1}\"].values.T)))\n",
    "\n",
    "# Stack fourier transforms\n",
    "training_stacked = np.stack(training_fourier, axis=1)\n",
    "\n",
    "# Average fourier transforms\n",
    "training_avg_fourier = np.mean(training_stacked, axis=1)\n",
    "\n",
    "plt.plot(training_freqs, training_avg_fourier)\n",
    "plt.xlim(0, 125)\n",
    "plt.ylim(0, 1400)\n",
    "plt.title(\"FFT of Trainng Data\")\n",
    "plt.show()"
   ]
  },
  {
   "cell_type": "markdown",
   "id": "ba315f9d",
   "metadata": {},
   "source": [
    "## Split data"
   ]
  },
  {
   "cell_type": "code",
   "execution_count": 306,
   "id": "11cf622d",
   "metadata": {
    "lines_to_next_cell": 1
   },
   "outputs": [],
   "source": [
    "# Time window (in seconds) to consider preceding each space press\n",
    "window_size = 0.05  # 50 ms\n",
    "\n",
    "# Uncertainty (in seconds) around each space press marker\n",
    "space_buffer = 0.02\n",
    "\n",
    "# Latency assumption (in seconds)\n",
    "latency = 0.02"
   ]
  },
  {
   "cell_type": "code",
   "execution_count": 307,
   "id": "b335234f",
   "metadata": {},
   "outputs": [],
   "source": [
    "def get_processed_data(\n",
    "    times,\n",
    "    channels,\n",
    "    markers,\n",
    "    window_size=window_size,\n",
    "    space_buffer=space_buffer,\n",
    "    latency=latency,\n",
    "    n_width=NOTCH_SIZE,\n",
    "    freq_lowerbound=FREQ_LOW,\n",
    "    freq_upperbound=FREQ_HIGH,\n",
    "):\n",
    "    # Define return arrays\n",
    "    x_data = []\n",
    "    y_data = []\n",
    "\n",
    "    fs = FREQ\n",
    "\n",
    "    # The number of indices to consider preceding each space press\n",
    "    delta_i = int(fs * window_size)\n",
    "\n",
    "    space_i = int(fs * space_buffer)\n",
    "\n",
    "    lat_i = int(fs * latency)\n",
    "\n",
    "    # Number of trainingtime samples to consider\n",
    "    num_samples = len(times) - delta_i - 1\n",
    "\n",
    "    # Get frequency list\n",
    "    freqs = np.fft.fftfreq(times[0:delta_i].shape[-1], d=1 / fs)\n",
    "\n",
    "    # Record indices of chosen frequencies\n",
    "    relevant_freq = []\n",
    "    relevant_freq_indices = []\n",
    "\n",
    "    for i, f in enumerate(freqs):\n",
    "        if freq_lowerbound <= f <= freq_upperbound:\n",
    "            relevant_freq.append(f)\n",
    "            relevant_freq_indices.append(i)\n",
    "\n",
    "    for i in range(num_samples):\n",
    "        # Define window data\n",
    "        window_data = []\n",
    "\n",
    "        # Define window end index\n",
    "        window_end = i + delta_i\n",
    "\n",
    "        # Record space press\n",
    "        y_data.append(max(markers[window_end - 2 - lat_i : window_end + 1 - lat_i]))\n",
    "\n",
    "        # Get fourier transforms for each channel\n",
    "        for channel in channels:\n",
    "            fourier_series = np.absolute(np.fft.fft(channel[i : i + delta_i]))\n",
    "            window_data.append(\n",
    "                fourier_series[relevant_freq_indices[0] : relevant_freq_indices[-1] + 1]\n",
    "            )\n",
    "\n",
    "        # Stack fourier transforms\n",
    "        window_stack = np.stack(window_data, axis=1)\n",
    "\n",
    "        # Average fourier transforms\n",
    "        window_avg = np.mean(window_stack, axis=1)\n",
    "\n",
    "        x_data.append(np.array(window_avg))\n",
    "\n",
    "        del window_data\n",
    "\n",
    "    return np.array(x_data), np.array(y_data), relevant_freq"
   ]
  },
  {
   "cell_type": "markdown",
   "id": "a6c0a456",
   "metadata": {},
   "source": [
    "Get training and validation data"
   ]
  },
  {
   "cell_type": "code",
   "execution_count": 308,
   "id": "fa9986f3",
   "metadata": {},
   "outputs": [
    {
     "name": "stderr",
     "output_type": "stream",
     "text": [
      "/tmp/ipykernel_2879/983914191.py:29: FutureWarning: The behavior of `series[i:j]` with an integer-dtype index is deprecated. In a future version, this will be treated as *label-based* indexing, consistent with e.g. `series[i]` lookups. To retain the old behavior, use `series.iloc[i:j]`. To get the future behavior, use `series.loc[i:j]`.\n",
      "  freqs = np.fft.fftfreq(times[0:delta_i].shape[-1], d=1 / fs)\n",
      "/tmp/ipykernel_2879/983914191.py:48: FutureWarning: The behavior of `series[i:j]` with an integer-dtype index is deprecated. In a future version, this will be treated as *label-based* indexing, consistent with e.g. `series[i]` lookups. To retain the old behavior, use `series.iloc[i:j]`. To get the future behavior, use `series.loc[i:j]`.\n",
      "  y_data.append(max(markers[window_end - 2 - lat_i : window_end + 1 - lat_i]))\n"
     ]
    },
    {
     "data": {
      "text/plain": [
       "((24971, 3), (24971,), [20.833333333333332, 41.666666666666664, 62.5])"
      ]
     },
     "execution_count": 308,
     "metadata": {},
     "output_type": "execute_result"
    }
   ],
   "source": [
    "x_data, y_data, freq_list = get_processed_data(timestamps, eeg_data, markers)\n",
    "x_data.shape, y_data.shape, freq_list"
   ]
  },
  {
   "cell_type": "code",
   "execution_count": 309,
   "id": "c65d4c03",
   "metadata": {},
   "outputs": [
    {
     "data": {
      "text/plain": [
       "((19976, 3, 1), (4995, 3, 1), (19976, 1), (4995, 1))"
      ]
     },
     "execution_count": 309,
     "metadata": {},
     "output_type": "execute_result"
    }
   ],
   "source": [
    "# Split data into training and validation sets\n",
    "x_train: np.ndarray\n",
    "x_val: np.ndarray\n",
    "y_train: np.ndarray\n",
    "y_val: np.ndarray\n",
    "x_train, x_val, y_train, y_val = train_test_split(  # type: ignore\n",
    "    x_data, y_data, test_size=0.2, shuffle=True, random_state=42\n",
    ")\n",
    "\n",
    "x_train = x_train.reshape(x_train.shape[0], x_train.shape[1], 1)\n",
    "x_val = x_val.reshape(x_val.shape[0], x_val.shape[1], 1)\n",
    "y_train = y_train.reshape(y_train.shape[0], 1)\n",
    "y_val = y_val.reshape(y_val.shape[0], 1)\n",
    "\n",
    "x_train.shape, x_val.shape, y_train.shape, y_val.shape"
   ]
  },
  {
   "cell_type": "markdown",
   "id": "b6f02a40",
   "metadata": {},
   "source": [
    "# Model"
   ]
  },
  {
   "cell_type": "code",
   "execution_count": 310,
   "id": "2b827803",
   "metadata": {},
   "outputs": [],
   "source": [
    "model = tf.keras.Sequential(\n",
    "    [\n",
    "        layers.Conv1D(64, 3, padding=\"same\", use_bias=False),\n",
    "        layers.BatchNormalization(),\n",
    "        layers.Conv1D(64, 3, padding=\"same\", use_bias=False),\n",
    "        layers.BatchNormalization(),\n",
    "        layers.Activation(\"elu\"),\n",
    "        layers.AveragePooling1D(2),\n",
    "        layers.Dropout(0.25),\n",
    "        layers.Conv1D(128, 3, padding=\"same\", use_bias=False),\n",
    "        layers.BatchNormalization(),\n",
    "        layers.Activation(\"elu\"),\n",
    "        layers.AveragePooling1D(1),\n",
    "        layers.Dropout(0.25),\n",
    "        layers.Flatten(),\n",
    "        layers.Dense(2),\n",
    "        layers.Activation(\"softmax\"),\n",
    "    ]\n",
    ")"
   ]
  },
  {
   "cell_type": "code",
   "execution_count": 311,
   "id": "9be2c6b3",
   "metadata": {},
   "outputs": [],
   "source": [
    "# one hot encode target values\n",
    "y_train = to_categorical(y_train)\n",
    "y_val = to_categorical(y_val)"
   ]
  },
  {
   "cell_type": "code",
   "execution_count": 312,
   "id": "5dfa6b7a",
   "metadata": {},
   "outputs": [],
   "source": [
    "model.compile(\n",
    "    optimizer=optimizers.Adam(learning_rate=0.001),\n",
    "    loss=\"categorical_crossentropy\",\n",
    "    metrics=[\"accuracy\"],\n",
    ")"
   ]
  },
  {
   "cell_type": "code",
   "execution_count": 313,
   "id": "f9225b44",
   "metadata": {},
   "outputs": [
    {
     "name": "stdout",
     "output_type": "stream",
     "text": [
      "Epoch 1/25\n",
      "625/625 [==============================] - 3s 3ms/step - loss: 0.1953 - accuracy: 0.9168 - val_loss: 0.1524 - val_accuracy: 0.9277\n",
      "Epoch 2/25\n",
      "625/625 [==============================] - 2s 3ms/step - loss: 0.1900 - accuracy: 0.9196 - val_loss: 0.1493 - val_accuracy: 0.9273\n",
      "Epoch 3/25\n",
      "625/625 [==============================] - 2s 3ms/step - loss: 0.1859 - accuracy: 0.9194 - val_loss: 0.1553 - val_accuracy: 0.9281\n",
      "Epoch 4/25\n",
      "625/625 [==============================] - 1s 2ms/step - loss: 0.1829 - accuracy: 0.9212 - val_loss: 0.1494 - val_accuracy: 0.9273\n",
      "Epoch 5/25\n",
      "625/625 [==============================] - 1s 2ms/step - loss: 0.1817 - accuracy: 0.9220 - val_loss: 0.1531 - val_accuracy: 0.9281\n",
      "Epoch 6/25\n",
      "625/625 [==============================] - 1s 2ms/step - loss: 0.1778 - accuracy: 0.9235 - val_loss: 0.1479 - val_accuracy: 0.9275\n",
      "Epoch 7/25\n",
      "625/625 [==============================] - 1s 2ms/step - loss: 0.1798 - accuracy: 0.9212 - val_loss: 0.1549 - val_accuracy: 0.9285\n",
      "Epoch 8/25\n",
      "625/625 [==============================] - 1s 2ms/step - loss: 0.1833 - accuracy: 0.9199 - val_loss: 0.1462 - val_accuracy: 0.9259\n",
      "Epoch 9/25\n",
      "625/625 [==============================] - 1s 2ms/step - loss: 0.1782 - accuracy: 0.9199 - val_loss: 0.1468 - val_accuracy: 0.9309\n",
      "Epoch 10/25\n",
      "625/625 [==============================] - 1s 2ms/step - loss: 0.1781 - accuracy: 0.9218 - val_loss: 0.1545 - val_accuracy: 0.9323\n",
      "Epoch 11/25\n",
      "625/625 [==============================] - 1s 2ms/step - loss: 0.1773 - accuracy: 0.9232 - val_loss: 0.1417 - val_accuracy: 0.9289\n",
      "Epoch 12/25\n",
      "625/625 [==============================] - 1s 2ms/step - loss: 0.1781 - accuracy: 0.9228 - val_loss: 0.1458 - val_accuracy: 0.9289\n",
      "Epoch 13/25\n",
      "625/625 [==============================] - 1s 2ms/step - loss: 0.1759 - accuracy: 0.9216 - val_loss: 0.1437 - val_accuracy: 0.9301\n",
      "Epoch 14/25\n",
      "625/625 [==============================] - 1s 2ms/step - loss: 0.1792 - accuracy: 0.9231 - val_loss: 0.1501 - val_accuracy: 0.9311\n",
      "Epoch 15/25\n",
      "625/625 [==============================] - 1s 2ms/step - loss: 0.1737 - accuracy: 0.9228 - val_loss: 0.1389 - val_accuracy: 0.9321\n",
      "Epoch 16/25\n",
      "625/625 [==============================] - 1s 2ms/step - loss: 0.1749 - accuracy: 0.9228 - val_loss: 0.1418 - val_accuracy: 0.9317\n",
      "Epoch 17/25\n",
      "625/625 [==============================] - 1s 2ms/step - loss: 0.1714 - accuracy: 0.9239 - val_loss: 0.1373 - val_accuracy: 0.9299\n",
      "Epoch 18/25\n",
      "625/625 [==============================] - 1s 2ms/step - loss: 0.1728 - accuracy: 0.9256 - val_loss: 0.1447 - val_accuracy: 0.9337\n",
      "Epoch 19/25\n",
      "625/625 [==============================] - 1s 2ms/step - loss: 0.1704 - accuracy: 0.9242 - val_loss: 0.1427 - val_accuracy: 0.9311\n",
      "Epoch 20/25\n",
      "625/625 [==============================] - 1s 2ms/step - loss: 0.1718 - accuracy: 0.9254 - val_loss: 0.1431 - val_accuracy: 0.9325\n",
      "Epoch 21/25\n",
      "625/625 [==============================] - 1s 2ms/step - loss: 0.1699 - accuracy: 0.9252 - val_loss: 0.1456 - val_accuracy: 0.9337\n",
      "Epoch 22/25\n",
      "625/625 [==============================] - 1s 2ms/step - loss: 0.1755 - accuracy: 0.9224 - val_loss: 0.1434 - val_accuracy: 0.9317\n",
      "Epoch 23/25\n",
      "625/625 [==============================] - 1s 2ms/step - loss: 0.1709 - accuracy: 0.9236 - val_loss: 0.1372 - val_accuracy: 0.9329\n",
      "Epoch 24/25\n",
      "625/625 [==============================] - 1s 2ms/step - loss: 0.1728 - accuracy: 0.9242 - val_loss: 0.1395 - val_accuracy: 0.9339\n",
      "Epoch 25/25\n",
      "625/625 [==============================] - 1s 2ms/step - loss: 0.1708 - accuracy: 0.9248 - val_loss: 0.1405 - val_accuracy: 0.9309\n"
     ]
    },
    {
     "data": {
      "text/plain": [
       "<keras.callbacks.History at 0x7fc41f4aefe0>"
      ]
     },
     "execution_count": 313,
     "metadata": {},
     "output_type": "execute_result"
    }
   ],
   "source": [
    "model.fit(\n",
    "    x_train,\n",
    "    y_train,\n",
    "    epochs=25,\n",
    "    validation_data=(x_val, y_val),\n",
    "    batch_size=32,\n",
    ")"
   ]
  },
  {
   "cell_type": "code",
   "execution_count": 314,
   "id": "92f4fa7b",
   "metadata": {},
   "outputs": [
    {
     "data": {
      "text/plain": [
       "[<matplotlib.lines.Line2D at 0x7fc41f1b2260>]"
      ]
     },
     "execution_count": 314,
     "metadata": {},
     "output_type": "execute_result"
    },
    {
     "data": {
      "image/png": "[encoded data removed]",
      "text/plain": [
       "<Figure size 640x480 with 1 Axes>"
      ]
     },
     "metadata": {},
     "output_type": "display_data"
    }
   ],
   "source": [
    "plt.plot(model.history.history[\"val_accuracy\"])"
   ]
  },
  {
   "cell_type": "code",
   "execution_count": 315,
   "id": "e68d52b0",
   "metadata": {},
   "outputs": [],
   "source": [
    "y_pred = model(np.array(x_data))"
   ]
  },
  {
   "cell_type": "code",
   "execution_count": 316,
   "id": "6b304b97",
   "metadata": {},
   "outputs": [
    {
     "data": {
      "text/plain": [
       "0.928396940450923"
      ]
     },
     "execution_count": 316,
     "metadata": {},
     "output_type": "execute_result"
    }
   ],
   "source": [
    "pred_classes = np.argmax(y_pred, axis=1)\n",
    "sum(pred_classes == y_data) / len(y_data)"
   ]
  },
  {
   "cell_type": "code",
   "execution_count": 317,
   "id": "89e3158b",
   "metadata": {},
   "outputs": [
    {
     "name": "stdout",
     "output_type": "stream",
     "text": [
      "[[10945  1544]\n",
      " [  244 12238]]\n"
     ]
    }
   ],
   "source": [
    "print(confusion_matrix(y_data, pred_classes))"
   ]
  },
  {
   "cell_type": "code",
   "execution_count": 318,
   "id": "af952547",
   "metadata": {},
   "outputs": [
    {
     "name": "stdout",
     "output_type": "stream",
     "text": [
      "              precision    recall  f1-score   support\n",
      "\n",
      "           0       0.98      0.88      0.92     12489\n",
      "           1       0.89      0.98      0.93     12482\n",
      "\n",
      "    accuracy                           0.93     24971\n",
      "   macro avg       0.93      0.93      0.93     24971\n",
      "weighted avg       0.93      0.93      0.93     24971\n",
      "\n"
     ]
    }
   ],
   "source": [
    "print(classification_report(y_data, pred_classes))"
   ]
  },
  {
   "cell_type": "markdown",
   "id": "02db6e74",
   "metadata": {},
   "source": [
    "## Test on Real Data"
   ]
  },
  {
   "cell_type": "code",
   "execution_count": 319,
   "id": "12890a1f",
   "metadata": {},
   "outputs": [
    {
     "name": "stderr",
     "output_type": "stream",
     "text": [
      "/tmp/ipykernel_2879/462377771.py:10: SettingWithCopyWarning: \n",
      "A value is trying to be set on a copy of a slice from a DataFrame.\n",
      "Try using .loc[row_indexer,col_indexer] = value instead\n",
      "\n",
      "See the caveats in the documentation: https://pandas.pydata.org/pandas-docs/stable/user_guide/indexing.html#returning-a-view-versus-a-copy\n",
      "  data[eeg_cols] = data[eeg_cols] * SCALE_FACTOR\n",
      "/tmp/ipykernel_2879/462377771.py:15: SettingWithCopyWarning: \n",
      "A value is trying to be set on a copy of a slice from a DataFrame.\n",
      "Try using .loc[row_indexer,col_indexer] = value instead\n",
      "\n",
      "See the caveats in the documentation: https://pandas.pydata.org/pandas-docs/stable/user_guide/indexing.html#returning-a-view-versus-a-copy\n",
      "  data[col] = data_filtered\n",
      "/tmp/ipykernel_2879/983914191.py:29: FutureWarning: The behavior of `series[i:j]` with an integer-dtype index is deprecated. In a future version, this will be treated as *label-based* indexing, consistent with e.g. `series[i]` lookups. To retain the old behavior, use `series.iloc[i:j]`. To get the future behavior, use `series.loc[i:j]`.\n",
      "  freqs = np.fft.fftfreq(times[0:delta_i].shape[-1], d=1 / fs)\n",
      "/tmp/ipykernel_2879/983914191.py:48: FutureWarning: The behavior of `series[i:j]` with an integer-dtype index is deprecated. In a future version, this will be treated as *label-based* indexing, consistent with e.g. `series[i]` lookups. To retain the old behavior, use `series.iloc[i:j]`. To get the future behavior, use `series.loc[i:j]`.\n",
      "  y_data.append(max(markers[window_end - 2 - lat_i : window_end + 1 - lat_i]))\n"
     ]
    }
   ],
   "source": [
    "def load_data(fp):\n",
    "    data = pd.read_csv(fp)\n",
    "    SCALE_FACTOR = (4500000) / 24 / (2**23 - 1)\n",
    "    FREQ = 250  # 250 samples per second\n",
    "\n",
    "    # trim the first and last 5 seconds off the data\n",
    "    data = data_0.iloc[5 * FREQ : -5 * FREQ, :]\n",
    "\n",
    "    eeg_cols = [f\"eeg{i}\" for i in range(1, 9)]\n",
    "    data[eeg_cols] = data[eeg_cols] * SCALE_FACTOR\n",
    "\n",
    "    for col in eeg_cols:\n",
    "        data_filtered = notch_filter(data[col])\n",
    "        data_filtered = bandpass(data_filtered)\n",
    "        data[col] = data_filtered\n",
    "\n",
    "    eeg_data = np.array([data[f\"eeg{i}\"][:] for i in range(1, 9)])\n",
    "    timestamps = data[\"timestamp\"][:]\n",
    "    markers = data[\"marker\"][:]\n",
    "\n",
    "    x_data, y_data, freq_list = get_processed_data(timestamps, eeg_data, markers)\n",
    "    return x_data, y_data, freq_list\n",
    "\n",
    "\n",
    "x_test, y_test, freq_list = load_data(\"../data/3-games-arm-flap.csv\")\n",
    "\n",
    "y_pred = model(np.array(x_test))\n",
    "pred_classes = np.argmax(y_pred, axis=1)"
   ]
  },
  {
   "cell_type": "code",
   "execution_count": 320,
   "id": "cf6ff4c3",
   "metadata": {},
   "outputs": [
    {
     "data": {
      "text/plain": [
       "0.9995993188420315"
      ]
     },
     "execution_count": 320,
     "metadata": {},
     "output_type": "execute_result"
    }
   ],
   "source": [
    "sum(pred_classes == y_test) / len(y_test)"
   ]
  },
  {
   "cell_type": "code",
   "execution_count": 321,
   "id": "ce784cd8",
   "metadata": {},
   "outputs": [
    {
     "name": "stdout",
     "output_type": "stream",
     "text": [
      "[[9979    4]\n",
      " [   0    0]]\n"
     ]
    }
   ],
   "source": [
    "print(confusion_matrix(y_test, pred_classes))"
   ]
  }
 ],
 "metadata": {
  "jupytext": {
   "cell_metadata_filter": "-all",
   "formats": "ipynb,py:percent",
   "notebook_metadata_filter": "-all"
  },
  "kernelspec": {
   "display_name": "Python 3 (ipykernel)",
   "language": "python",
   "name": "python3"
  },
  "language_info": {
   "codemirror_mode": {
    "name": "ipython",
    "version": 3
   },
   "file_extension": ".py",
   "mimetype": "text/x-python",
   "name": "python",
   "nbconvert_exporter": "python",
   "pygments_lexer": "ipython3",
   "version": "3.10.9"
  }
 },
 "nbformat": 4,
 "nbformat_minor": 5
}
